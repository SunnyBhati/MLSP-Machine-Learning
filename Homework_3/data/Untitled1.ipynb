{
 "cells": [
  {
   "cell_type": "code",
   "execution_count": 1,
   "metadata": {},
   "outputs": [],
   "source": [
    "import librosa\n",
    "from librosa import display\n",
    "from PIL import Image\n",
    "from matplotlib import pyplot\n",
    "from numpy import asarray\n",
    "import matplotlib.pyplot as plt\n",
    "import numpy as np\n",
    "import cmath\n",
    "import seaborn as sns\n",
    "import scipy\n",
    "import IPython.display as ipd\n",
    "import math\n",
    "from numpy.linalg import inv"
   ]
  },
  {
   "cell_type": "code",
   "execution_count": 2,
   "metadata": {},
   "outputs": [],
   "source": [
    "def NMFmodel(A,no_of_basis_vectors):\n",
    "    np.random.seed(1)\n",
    "    li=0\n",
    "    Ws=np.random.rand(len(A),no_of_basis_vectors)\n",
    "    Hs=np.random.rand(no_of_basis_vectors,len(A[0]))\n",
    "#     Ws=np.ones((len(A),no_of_basis_vectors))*1000\n",
    "#     Hs=np.ones((no_of_basis_vectors,len(A[0])))*50\n",
    "    obj= 0.5* np.trace((A-Ws.dot(Hs)).T.dot(A-Ws.dot(Hs)))\n",
    "    for i in range(100000):\n",
    "        Hs=Hs * (np.dot(Ws.T,A)+li)/(Ws.T.dot(Ws).dot(Hs)+li)\n",
    "        Ws=Ws*(np.dot(A,Hs.T)+li)/(Ws.dot(Hs).dot(Hs.T)+li)\n",
    "        obj1=0.5* np.trace((A-Ws.dot(Hs)).T.dot(A-Ws.dot(Hs)))\n",
    "        if np.allclose(obj,obj1, rtol=1e-7,atol=1e-7):\n",
    "#             print(abs(obj-obj1),i)\n",
    "            break\n",
    "        else:\n",
    "            obj=obj1\n",
    "    return(Ws,Hs,i,abs(obj-obj1))"
   ]
  },
  {
   "cell_type": "code",
   "execution_count": 3,
   "metadata": {},
   "outputs": [],
   "source": [
    "import scipy.io\n",
    "eeg = scipy.io.loadmat('eeg.mat')"
   ]
  },
  {
   "cell_type": "code",
   "execution_count": 4,
   "metadata": {},
   "outputs": [],
   "source": [
    "x_train=eeg['x_train'] \n",
    "xtest=eeg['x_te']\n",
    "ytest=eeg['y_te']\n",
    "ytrain=eeg['y_train']\n",
    "ytest.shape\n",
    "rank=[2,4,6,8,10,15,20]\n",
    "k_near=[4,7,10,12,15,20,25]\n",
    "flattened_y_train=list(ytrain.flatten())\n",
    "flattened_y_test=list(ytest.flatten())"
   ]
  },
  {
   "cell_type": "code",
   "execution_count": 5,
   "metadata": {},
   "outputs": [],
   "source": [
    "Tr_matrix=np.empty((255,0)) ### Training X_matrix"
   ]
  },
  {
   "cell_type": "markdown",
   "metadata": {},
   "source": [
    "## Converting the training signal into STFT"
   ]
  },
  {
   "cell_type": "code",
   "execution_count": 6,
   "metadata": {},
   "outputs": [],
   "source": [
    "for i in range(x_train.shape[2]):\n",
    "    channel1=librosa.stft(x_train[:,0,i], n_fft = 64, hop_length=48, window='blackman')\n",
    "    channel2=librosa.stft(x_train[:,1,i], n_fft = 64, hop_length=48, window='blackman')\n",
    "    channel3=librosa.stft(x_train[:,2,i], n_fft = 64, hop_length=48, window='blackman')\n",
    "    new_channel1=channel1[2:7,:].reshape(1,85)\n",
    "    new_channel2=channel2[2:7,:].reshape(1,85)\n",
    "    new_channel3=channel3[2:7,:].reshape(1,85)\n",
    "    chanel=np.concatenate((new_channel1,new_channel2,new_channel3),axis=1)\n",
    "    Tr_matrix=np.concatenate((Tr_matrix,chanel.T),axis=1)"
   ]
  },
  {
   "cell_type": "code",
   "execution_count": 7,
   "metadata": {},
   "outputs": [],
   "source": [
    "Test_matrix=np.empty((255,0)) #### Test X matrix\n"
   ]
  },
  {
   "cell_type": "markdown",
   "metadata": {},
   "source": [
    "## Converting the Test signal into STFT"
   ]
  },
  {
   "cell_type": "code",
   "execution_count": 8,
   "metadata": {},
   "outputs": [],
   "source": [
    "for i in range(xtest.shape[2]):\n",
    "    channel1=librosa.stft(x_train[:,0,i], n_fft = 64, hop_length=48, window='blackman')\n",
    "    channel2=librosa.stft(x_train[:,1,i], n_fft = 64, hop_length=48, window='blackman')\n",
    "    channel3=librosa.stft(x_train[:,2,i], n_fft = 64, hop_length=48, window='blackman')\n",
    "    new_channel1=channel1[2:7,:].reshape(1,85)\n",
    "    new_channel2=channel2[2:7,:].reshape(1,85)\n",
    "    new_channel3=channel3[2:7,:].reshape(1,85)\n",
    "    chanel=np.concatenate((new_channel1,new_channel2,new_channel3),axis=1)\n",
    "    Test_matrix=np.concatenate((Test_matrix,chanel.T),axis=1)"
   ]
  },
  {
   "cell_type": "code",
   "execution_count": 9,
   "metadata": {},
   "outputs": [
    {
     "name": "stdout",
     "output_type": "stream",
     "text": [
      "[[-0.18705301+2.86229374e-17j -0.15800765+6.93889390e-18j\n",
      "  -1.27693081-1.11022302e-16j ... -0.58106261+5.55111512e-17j\n",
      "  -0.61230779+5.55111512e-17j  0.08088275+6.93889390e-18j]\n",
      " [-0.16769905-2.59186894e-01j  0.0889667 -1.24706089e-01j\n",
      "  -0.14289826-3.93401951e-01j ... -0.62742352+3.13419968e-01j\n",
      "   0.45533773-2.22693563e-01j -0.0134242 +4.36687857e-01j]\n",
      " [-0.10207901+5.35322487e-01j -0.16498095-1.48869693e-01j\n",
      "   0.35892558-1.67546049e-01j ... -0.59812766+4.06445563e-02j\n",
      "   0.461844  -1.75214589e-01j  0.27543956-7.70760551e-02j]\n",
      " ...\n",
      " [ 0.03431823+1.41867369e-01j -0.19715536+3.11366618e-01j\n",
      "   0.1337263 -4.81889904e-01j ...  0.0291795 -3.16843502e-02j\n",
      "  -0.02115282+2.86981426e-02j  0.06142748-2.42771596e-01j]\n",
      " [ 0.41499385-2.70438492e-01j -0.31009653+3.88155341e-01j\n",
      "   0.35470533-3.85713816e-01j ...  0.48070675+2.94662505e-01j\n",
      "   0.38798332-1.94062874e-01j -0.43758199-2.87101157e-02j]\n",
      " [ 0.61479318+3.91500533e-01j  0.21177115+1.96820498e-01j\n",
      "  -0.64364648-3.26762050e-01j ...  0.18453601+1.60970002e-01j\n",
      "   0.76492405+5.30329406e-01j -0.42741746-2.93218493e-01j]]\n"
     ]
    }
   ],
   "source": [
    "print(Test_matrix)"
   ]
  },
  {
   "cell_type": "code",
   "execution_count": 10,
   "metadata": {},
   "outputs": [],
   "source": [
    "def sunny(Tr_matrix,Test_matrix,rank,k_nearest,flattened_y_test,flattened_y_train):\n",
    "    W_tr,H_tr,k1,err1=NMFmodel(abs(Tr_matrix),rank)\n",
    "    W_te,H_te,k2,err2=NMFmodel(abs(Test_matrix),rank)\n",
    "    final_categories=[]\n",
    "    accuracy_list=[]\n",
    "    for i in range(len(H_te[0])):##28\n",
    "        dis=[]\n",
    "        for j in range(len(H_tr[0])):##112\n",
    "            k=np.linalg.norm(H_tr[:,j]-H_te[:,i])\n",
    "            dis.append(k)\n",
    "        sorted_dist_comingfromwhichcolumn=list(np.argsort(dis)[0:k_nearest])\n",
    "        listofcategoriesfora_i_point=[flattened_y_train[i] for i in sorted_dist_comingfromwhichcolumn]\n",
    "        if (listofcategoriesfora_i_point.count(1)) > (listofcategoriesfora_i_point.count(2)):\n",
    "            category=1\n",
    "        else:\n",
    "            category=2\n",
    "        \n",
    "        final_categories.append(category)\n",
    "        \n",
    "        if category==flattened_y_test[i]:\n",
    "            flag=1\n",
    "        else:\n",
    "            flag=0\n",
    "        accuracy_list.append(flag)\n",
    "         \n",
    "    final_accuracy=np.sum(accuracy_list)/len(accuracy_list)\n",
    "    return(np.float(final_accuracy))"
   ]
  },
  {
   "cell_type": "code",
   "execution_count": 11,
   "metadata": {},
   "outputs": [
    {
     "name": "stdout",
     "output_type": "stream",
     "text": [
      "0.39285714285714285 0\n",
      "0.5 0\n",
      "0.6428571428571429 0\n",
      "0.32142857142857145 0\n",
      "0.39285714285714285 0\n",
      "0.5714285714285714 0\n",
      "0.42857142857142855 0\n",
      "0.5 1\n",
      "0.4642857142857143 1\n",
      "0.6428571428571429 1\n",
      "0.35714285714285715 1\n",
      "0.42857142857142855 1\n",
      "0.5357142857142857 1\n",
      "0.39285714285714285 1\n",
      "0.5357142857142857 2\n",
      "0.4642857142857143 2\n",
      "0.6071428571428571 2\n",
      "0.42857142857142855 2\n",
      "0.42857142857142855 2\n",
      "0.5714285714285714 2\n",
      "0.39285714285714285 2\n",
      "0.5 3\n",
      "0.5 3\n",
      "0.5357142857142857 3\n",
      "0.39285714285714285 3\n",
      "0.4642857142857143 3\n",
      "0.5357142857142857 3\n",
      "0.4642857142857143 3\n",
      "0.4642857142857143 4\n",
      "0.5357142857142857 4\n",
      "0.5714285714285714 4\n",
      "0.32142857142857145 4\n",
      "0.39285714285714285 4\n",
      "0.6428571428571429 4\n",
      "0.4642857142857143 4\n",
      "0.35714285714285715 5\n",
      "0.4642857142857143 5\n",
      "0.6071428571428571 5\n",
      "0.39285714285714285 5\n",
      "0.39285714285714285 5\n",
      "0.6071428571428571 5\n",
      "0.39285714285714285 5\n",
      "0.42857142857142855 6\n",
      "0.4642857142857143 6\n",
      "0.5357142857142857 6\n",
      "0.39285714285714285 6\n",
      "0.42857142857142855 6\n",
      "0.5714285714285714 6\n",
      "0.39285714285714285 6\n"
     ]
    }
   ],
   "source": [
    "list_of_table=np.zeros((len(k_near),len(rank)))\n",
    "for i in range(len(k_near)):\n",
    "    for j in range(len(rank)):\n",
    "        list_of_table[i][j]=sunny(Tr_matrix,Test_matrix,rank[j],k_near[i],flattened_y_test,flattened_y_train)\n",
    "        print(list_of_table[i][j],i)\n",
    "        "
   ]
  },
  {
   "cell_type": "code",
   "execution_count": 12,
   "metadata": {},
   "outputs": [
    {
     "name": "stdout",
     "output_type": "stream",
     "text": [
      "[[0.39285714 0.5        0.64285714 0.32142857 0.39285714 0.57142857\n",
      "  0.42857143]\n",
      " [0.5        0.46428571 0.64285714 0.35714286 0.42857143 0.53571429\n",
      "  0.39285714]\n",
      " [0.53571429 0.46428571 0.60714286 0.42857143 0.42857143 0.57142857\n",
      "  0.39285714]\n",
      " [0.5        0.5        0.53571429 0.39285714 0.46428571 0.53571429\n",
      "  0.46428571]\n",
      " [0.46428571 0.53571429 0.57142857 0.32142857 0.39285714 0.64285714\n",
      "  0.46428571]\n",
      " [0.35714286 0.46428571 0.60714286 0.39285714 0.39285714 0.60714286\n",
      "  0.39285714]\n",
      " [0.42857143 0.46428571 0.53571429 0.39285714 0.42857143 0.57142857\n",
      "  0.39285714]]\n"
     ]
    }
   ],
   "source": [
    "print(list_of_table)"
   ]
  },
  {
   "cell_type": "markdown",
   "metadata": {},
   "source": [
    "The best accuracy obtained was 64.285% for different combinations of k and rank (combination1:rank=6 and k=20, combination2: rank=15 and k=15. The Ws and Hs for both train and test were initialized with random values.I have printed out the best accuracy result and as seen the highest accuracy is for rank=20 and k=20.\n",
    "\n",
    "Below are the values values that I got for different k and ranks:\n",
    "\n",
    "<table>\n",
    "  <thead>\n",
    "    <tr>\n",
    "      <th>K</th>\n",
    "      <th>Accuracies for different ranks(2,4,6,8,10,15,20). The values are in decimals and need to be converted into %  by multiplying with 100</th>\n",
    "    </tr>\n",
    "  </thead>\n",
    "  <tbody>\n",
    "    <tr>\n",
    "      <td>4</td>\n",
    "      <td>[0.39, 0.5, 0.64, 0.3214, 0.3928, 0.5714, 0.4285]</td>\n",
    "    </tr>\n",
    "    <tr>\n",
    "      <td>7</td>\n",
    "      <td>[[0.5, 0.4642, 0.6428, 0.3571, 0.42857143, 0.53571429, 0.39285714]</td>\n",
    "    </tr>\n",
    "    <tr>\n",
    "      <td>10</td>\n",
    "      <td>[0.53571429, 0.46428571, 0.60714286, 0.42857143, 0.42857143, 0.57142857, 0.39285714]</td>\n",
    "    </tr>\n",
    "    <tr>\n",
    "      <td>12</td>\n",
    "      <td>[0.5, 0.5, 0.53571429, 0.39285714, 0.46428571, 0.53571429, 0.46428571]</td>\n",
    "    </tr>\n",
    "    <tr>\n",
    "      <td>15</td>\n",
    "      <td>[0.46428571, 0.53571429, 0.57142857, 0.32142857, 0.39285714, 0.64285714, 0.46428571]</td>\n",
    "    </tr>\n",
    "    <tr>\n",
    "      <td>20</td>\n",
    "      <td>[[0.35714286, 0.46428571, 0.60714286, 0.39285714, 0.39285714, 0.60714286, 0.39285714]</td>\n",
    "    </tr>\n",
    "    <tr>\n",
    "      <td>25</td>\n",
    "      <td>[0.42857143, 0.46428571, 0.53571429, 0.39285714, 0.42857143, 0.57142857, 0.39285714]</td>\n",
    "    </tr>\n",
    "      \n",
    "  </tbody>\n",
    "</table>"
   ]
  },
  {
   "cell_type": "code",
   "execution_count": null,
   "metadata": {},
   "outputs": [],
   "source": []
  }
 ],
 "metadata": {
  "kernelspec": {
   "display_name": "Python 3",
   "language": "python",
   "name": "python3"
  },
  "language_info": {
   "codemirror_mode": {
    "name": "ipython",
    "version": 3
   },
   "file_extension": ".py",
   "mimetype": "text/x-python",
   "name": "python",
   "nbconvert_exporter": "python",
   "pygments_lexer": "ipython3",
   "version": "3.7.4"
  }
 },
 "nbformat": 4,
 "nbformat_minor": 4
}
