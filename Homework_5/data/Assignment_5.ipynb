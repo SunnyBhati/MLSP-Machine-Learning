{
 "cells": [
  {
   "cell_type": "code",
   "execution_count": 1,
   "metadata": {},
   "outputs": [
    {
     "name": "stderr",
     "output_type": "stream",
     "text": [
      "/opt/anaconda3/lib/python3.7/site-packages/ipykernel_launcher.py:15: DeprecationWarning: Using or importing the ABCs from 'collections' instead of from 'collections.abc' is deprecated, and in 3.8 it will stop working\n",
      "  from ipykernel import kernelapp as app\n"
     ]
    }
   ],
   "source": [
    "import scipy.io\n",
    "import librosa\n",
    "from librosa import display\n",
    "from PIL import Image\n",
    "from matplotlib import pyplot\n",
    "from numpy import asarray\n",
    "import matplotlib.pyplot as plt\n",
    "import numpy as np\n",
    "import cmath\n",
    "import seaborn as sns\n",
    "import scipy\n",
    "import IPython.display as ipd\n",
    "import math\n",
    "from numpy.linalg import inv\n",
    "from collections import Iterable \n",
    "from ipykernel import kernelapp as app\n",
    "from tqdm import tqdm\n",
    "from scipy.io import wavfile\n",
    "import scipy.io\n",
    "import numpy as np\n",
    "import os\n",
    "import math\n",
    "import matplotlib.pyplot as plt\n",
    "from scipy.stats import multivariate_normal\n",
    "from numpy.linalg import inv"
   ]
  },
  {
   "cell_type": "code",
   "execution_count": 2,
   "metadata": {},
   "outputs": [],
   "source": [
    "training = scipy.io.loadmat('trX.mat')\n",
    "labels=  scipy.io.loadmat('trY.mat')"
   ]
  },
  {
   "cell_type": "code",
   "execution_count": 3,
   "metadata": {},
   "outputs": [],
   "source": [
    "training1=training['trX'] \n",
    "y_train=labels['trY']"
   ]
  },
  {
   "cell_type": "code",
   "execution_count": 4,
   "metadata": {},
   "outputs": [
    {
     "name": "stderr",
     "output_type": "stream",
     "text": [
      "'c' argument looks like a single numeric RGB or RGBA sequence, which should be avoided as value-mapping will have precedence in case its length matches with 'x' & 'y'.  Please use a 2-D array with a single row if you really want to specify the same RGB or RGBA value for all points.\n"
     ]
    },
    {
     "data": {
      "image/png": "[encoded data removed]",
      "text/plain": [
       "<Figure size 432x288 with 1 Axes>"
      ]
     },
     "metadata": {
      "needs_background": "light"
     },
     "output_type": "display_data"
    }
   ],
   "source": [
    "x=training1[0,:]\n",
    "y=training1[1,:]\n",
    "colors = (0,1,0)\n",
    "area = np.pi*3\n",
    "plt.scatter(x, y, s=area, c=colors, alpha=0.5)\n",
    "plt.title('Scatter plot pythonspot.com')\n",
    "plt.xlabel('x')\n",
    "plt.ylabel('y')\n",
    "plt.show()"
   ]
  },
  {
   "cell_type": "markdown",
   "metadata": {},
   "source": [
    "## Initialising the parameters"
   ]
  },
  {
   "cell_type": "code",
   "execution_count": 5,
   "metadata": {},
   "outputs": [],
   "source": [
    "data_points_withones=np.vstack([training1, [1]*160])\n",
    "initial_sample_weights=[1/160]*160\n",
    "initial_sample_weights1=np.reshape(initial_sample_weights,(1,160))\n",
    "y_train_final=y_train.flatten()\n",
    "phi=[]\n",
    "full_cost_list=[]\n",
    "beta_list=[]\n",
    "weights=[]"
   ]
  },
  {
   "cell_type": "code",
   "execution_count": 6,
   "metadata": {},
   "outputs": [],
   "source": [
    "def cost(a_ini,data_points_withones,y_train,initial_sample_weights1):\n",
    "    pb_3=np.matmul(a_ini,data_points_withones)\n",
    "    pb_3_step1=np.tanh(pb_3)\n",
    "    y_new=np.reshape(y_train,(1,160))\n",
    "    cost=np.sum(np.multiply(initial_sample_weights1,(pb_3_step1-y_new)**2))\n",
    "    return(cost)\n",
    "    "
   ]
  },
  {
   "cell_type": "code",
   "execution_count": 7,
   "metadata": {},
   "outputs": [
    {
     "name": "stderr",
     "output_type": "stream",
     "text": [
      "100%|██████████| 1500/1500 [12:05<00:00,  2.07it/s]\n"
     ]
    }
   ],
   "source": [
    "for m in tqdm(range(1500)):\n",
    "    w_ni=np.random.normal(0.01,0.03,3)*0.0001\n",
    "    a_ini=np.reshape(w_ni,(1,3))\n",
    "    rho=0.0001\n",
    "    cost_initial=cost(a_ini,data_points_withones,y_train,initial_sample_weights1)\n",
    "    costlist=[]\n",
    "    for iter in range(10000):\n",
    "        pb_3=np.matmul(a_ini,data_points_withones)\n",
    "        pb_3_step1=np.tanh(pb_3)\n",
    "        y_new=np.reshape(y_train,(1,160))\n",
    "        err_step1= 2*np.multiply(initial_sample_weights1,(pb_3_step1-y_new))\n",
    "        err=err_step1*(np.multiply((1+pb_3_step1),(1-pb_3_step1)))\n",
    "        a_ini=a_ini-np.multiply(rho,np.matmul(err,data_points_withones.T))\n",
    "        cost_final=cost(a_ini,data_points_withones,y_train,initial_sample_weights1)\n",
    "        \n",
    "        costlist.append(cost_initial)\n",
    "        cost_initial=cost_final\n",
    "  \n",
    "    full_cost_list.append(costlist)\n",
    "    final_pb3=pb_3_step1.flatten()\n",
    "    y_test=[0]*160\n",
    "    for i in range(len(final_pb3)):\n",
    "        if final_pb3[i]>0:\n",
    "            y_test[i]= 1\n",
    "        else:\n",
    "            y_test[i]= -1\n",
    "    a=0\n",
    "    b=0\n",
    "    for j in range(len(final_pb3)):\n",
    "        if y_test[j]==y_train_final[j]:\n",
    "            a=a+initial_sample_weights1[0][j]\n",
    "        else:\n",
    "            b=b+initial_sample_weights1[0][j]\n",
    "\n",
    "    beta=0.5*np.log(a/b)\n",
    "    beta_list.append(beta)\n",
    "    phi.append(y_test)\n",
    "\n",
    "    w_new=[0]*160\n",
    "    for k in range(len(final_pb3)):\n",
    "        if y_test[k]==y_train_final[k]:\n",
    "            w_new[k]=initial_sample_weights1[0][k]*np.exp(-beta)\n",
    "        else:\n",
    "            w_new[k]=initial_sample_weights1[0][k]*np.exp(beta)\n",
    "    weights.append(initial_sample_weights1)\n",
    "    w_new1=np.array(w_new)/np.sum(np.array(w_new))\n",
    "    initial_sample_weights1=np.reshape(w_new1,(1,160))"
   ]
  },
  {
   "cell_type": "code",
   "execution_count": null,
   "metadata": {},
   "outputs": [],
   "source": []
  },
  {
   "cell_type": "code",
   "execution_count": 8,
   "metadata": {},
   "outputs": [
    {
     "data": {
      "image/png": "[encoded data removed]",
      "text/plain": [
       "<Figure size 432x288 with 1 Axes>"
      ]
     },
     "metadata": {
      "needs_background": "light"
     },
     "output_type": "display_data"
    }
   ],
   "source": [
    "fig = plt.figure()\n",
    "plt.plot( beta_list, c='Blue', label='Training Loss')\n",
    "plt.xlabel('No. of Iterations')\n",
    "plt.ylabel('Loss')\n",
    "plt.title('Loss Vs Training Iterations')\n",
    "plt.legend()\n",
    "plt.show()"
   ]
  },
  {
   "cell_type": "code",
   "execution_count": null,
   "metadata": {},
   "outputs": [],
   "source": []
  },
  {
   "cell_type": "code",
   "execution_count": 9,
   "metadata": {},
   "outputs": [],
   "source": [
    "a=1e+9"
   ]
  },
  {
   "cell_type": "code",
   "execution_count": 10,
   "metadata": {},
   "outputs": [
    {
     "name": "stdout",
     "output_type": "stream",
     "text": [
      "1000000000.0\n"
     ]
    }
   ],
   "source": [
    "print(a)"
   ]
  },
  {
   "cell_type": "code",
   "execution_count": 11,
   "metadata": {},
   "outputs": [
    {
     "name": "stdout",
     "output_type": "stream",
     "text": [
      "9999\n"
     ]
    }
   ],
   "source": [
    "print(iter)"
   ]
  },
  {
   "cell_type": "code",
   "execution_count": 12,
   "metadata": {},
   "outputs": [],
   "source": [
    "gh=np.reshape(beta_list,(1500,1))"
   ]
  },
  {
   "cell_type": "code",
   "execution_count": 13,
   "metadata": {},
   "outputs": [],
   "source": [
    "ghf=np.multiply(gh,phi)"
   ]
  },
  {
   "cell_type": "code",
   "execution_count": 14,
   "metadata": {},
   "outputs": [],
   "source": [
    "fd=ghf.sum(axis=0)"
   ]
  },
  {
   "cell_type": "code",
   "execution_count": 15,
   "metadata": {},
   "outputs": [],
   "source": [
    "for i in range(len(fd)):\n",
    "    if fd[i]>0:\n",
    "        fd[i]=1\n",
    "    else:\n",
    "        fd[i]=-1"
   ]
  },
  {
   "cell_type": "code",
   "execution_count": null,
   "metadata": {},
   "outputs": [],
   "source": []
  },
  {
   "cell_type": "code",
   "execution_count": 16,
   "metadata": {},
   "outputs": [],
   "source": [
    "df=0\n",
    "for k in range(len(fd)):\n",
    "    if fd[k]==y_train_final[k]:\n",
    "        df=df+1"
   ]
  },
  {
   "cell_type": "code",
   "execution_count": 17,
   "metadata": {},
   "outputs": [
    {
     "name": "stdout",
     "output_type": "stream",
     "text": [
      "0.78125\n"
     ]
    }
   ],
   "source": [
    "print(df/160)"
   ]
  },
  {
   "cell_type": "code",
   "execution_count": 18,
   "metadata": {},
   "outputs": [
    {
     "name": "stdout",
     "output_type": "stream",
     "text": [
      "[0.18974481085245146, 0.14927715689720775, 0.1203087579995549, 0.09847029286022223, 0.08142600042243292, 0.0678025318255947, 0.056730684255833816, 0.0476265344596977, 0.040078022283099694, 0.0337823192605714, 0.028509390246457218, 0.02407981533848105, 0.020350725818249545, 0.01720653386403414, 0.014552591835767771, 0.012310700255630377, 0.010415820012755308, 0.00881359449846526, 0.007458434278939226, 0.00631200500779357, 0.005342013164882721, 0.08448507042736537, 0.07118930407845447, 0.0024938371594183458, 0.5066830194321529, 0.0709463437248244, 0.05729795932423916, 0.054189780553503146, 0.05140174411784763, 0.048886773176951254, 0.04660659611984415, 0.04452977858126865, 0.04263026099327207, 0.04088625630724344, 0.03927940843015954, 0.0377941421286043, 0.03641715541399277, 0.03513701924647251, 0.03394385897823675, 0.032829098697635076, 0.030155928917633544, 0.029272917128562018, 0.02690378286399581, 0.026198771194271154, 0.02552977337028295, 0.024894098040330808, 0.02428931555623679, 0.023713226912831356, 0.023163837009371673, 0.022639331547067255, 0.022138056998532718, 0.02165850318288034, 0.02119928805934075, 0.02075914441666707, 0.020336908188169182, 0.019931508165340183, 0.02919316682831769, 0.028364877636723396, 0.027582304879018846, 0.02684176442137196, 0.026139957718194315, 0.025473922642339858, 0.024840991653774847, 0.024238756059713495, 0.02366503535566378, 0.023117850824045383, 0.022595402716082177, 0.02209605046203078, 0.021618295450941377, 0.0211607659988982, 0.019930132127111318, 0.019540634147646226, 0.019166070224634783, 0.018805597516812357, 0.018458435442688843, 0.01812386003534237, 0.01780119890057483, 0.017489826704490223, 0.017189161126755483, 0.016898659224427372, 0.01661781415852847, 0.01634615224186342, 0.016083230271875297, 0.01582863311692891, 0.015581971528388881, 0.01534288015419762, 0.015111015732649117, 0.014886055447563985, 0.014667695428281512, 0.0144556493798131, 0.02403920398787207, 0.023474782738558225, 0.022936262323359453, 0.02242189958715217, 0.03174427607603776, 0.03076727324749541, 0.029848631095149132, 0.02898327064077484, 0.028166685789957707, 0.027394864754625083, 0.02666422406657736, 0.02597155288893193, 0.02531396579766297, 0.024688862567115496, 0.024093893776438273, 0.023526931276931347, 0.0229860427371137, 0.022469469623311436, 0.021975608086624444, 0.021502992318288366, 0.0210502800092965, 0.02061623961027213, 0.020199739136790667, 0.019799736305724992, 0.019415269821562366, 0.019045451659225433, 0.01868946021291832, 0.018346534199699355, 0.018015967222490475, 0.01769710291079554, 0.017389330568747592, 0.01709208126972625, 0.01680482434499731, 0.01652706422074372, 0.016258337563815218, 0.01599821070161123, 0.01574627728585332, 0.015502156173759656, 0.015265489503394491, 0.015035940942728749, 0.01481319409439658, 0.01459695104023054, 0.014386931011480093, 0.014182869172252175, 0.013984515505067952, 0.013791633788667806, 0.013604000659290981, 0.013421404747581805, 0.013243645884097873, 0.0130705343671476, 0.01290189028732358, 0.0127375429036846, 0.012577330067022186, 0.012421097686121962, 0.012268699233329216, 0.012119995286083748, 0.01197485310140296, 0.011833146220577533, 0.01169475410162387, 0.01155956177723303, 0.011427459536177062, 0.011298342626313252, 0.011172110977510703, 0.011048668942948115, 0.010927925057373562, 0.010809791811048776, 0.010694185438203269, 0.010581025718922731, 0.010470235793481178, 0.010361741988225627, 0.01025547365216882, 0.010151363003542845, 0.010049344985609623, 0.009949357131069187, 0.009851339434493579, 0.00975523423222911, 0.009660986089259036, 0.009568541692558472, 0.009477849750521544, 0.009388860898053809, 0.009301527606962845, 0.00921580410129971, 0.00032427867928337575, 0.10831771907437855, 0.06755453086916267, -0.031800131910242266, 0.02144781915783802, -0.08699252702887006, 0.04640000046678646, -0.050889504877905896, 0.008232695763158781, 0.21951994827106594, 0.03925982815387201, -0.12097217021410059, 0.1026651018604371, -0.07689300585705712, 0.0655322088454962, -0.0443804276069307, 0.037554545416370745, -0.03182506389495843, 0.02699804260575222, -0.02292046472385494, 0.01946932878579556, -0.016544325919822283, 0.014062751260552373, -0.011955849951602508, 0.010166112192178431, -0.008645215306762866, 0.0073524204710874435, -0.006253298546967728, 0.005318700956580538, -0.0045239177565972455, 0.0038479819885646727, -0.003273090527441398, 0.0027841191685972462, -0.002368214896285038, 0.0020144519747949162, -0.0017135412045766348, 0.00145758371083734, -0.0012398621877563443, 0.001054663742161232, -0.0008971294558489233, 0.0007631265766977444, -0.0006491398976485061, 0.0005521794200336706, -0.0004697018458593575, 0.014303725303024623, 0.013708014620693248, -0.0007030360345069388, 0.0005982812431545803, -0.000509135465251147, 0.01398050435233999, 0.013360354463204861, -0.0007147566195990901, 0.0006085035564515707, -0.0005180458773542394, 0.013649622392302278, 0.013030634733256038, -0.0007050495369703492, 0.0006004726597397977, -0.0005114073986342792, 0.013322042047216587, 0.012716989508189466, -0.0006849240466686092, 0.0005835480917942256, -0.0004971770184635567, 0.013003149567822118, 0.012418009364408228, -0.0006601907848701559, 0.0005626738837471415, -0.00047956137890323543, 0.012695382839309492, 0.012132558960261405, -0.0006338855343971788, 0.0008380365485232802, 0.10083298348562691, 0.07182214114688609, -0.026209321659779336, 0.022269574244824914, -0.018931766892002364, 0.01610021130830809, -0.013695836510034117, 0.01165278904372488, -0.009915902538343992, 0.008438763471178463, -0.007182198258242225, 0.00611306692590148, -0.00520328612735873, 0.004429028092981822, -0.0037700575379491586, 0.0032091787662717843, -0.002731772132928728, 0.002325403837920674, -0.0019794964614929162, 0.0016850501692298309, -0.0014344064116583511, 0.001221047404073484, -0.0010394258219752499, 0.0008848200682269609, -0.0007532112161412855, 0.0006411783475296639, -0.0005458095145647059, 0.0024165406337155883, 0.007831247093436206, 0.005838229676853487, -0.0004110670859373277, 0.01245925174031504, 0.01196025039473787, -0.000573942154702922, 0.0007804762874159999, 0.07515255332453838, 0.054466863931730225, -0.019761149741869672, 0.016794951543293024, -0.014278157617913638, 0.01214107859725916, -0.010325442041600645, 0.008782294041784442, -0.007470367583395546, 0.006354787907979193, -0.005406028170618029, 0.004599055888083761, -0.003912628182129917, 0.00332870533819309, -0.0028319599512297354, 0.0024093642815725493, -0.0020498422377425883, 0.0017439751670302382, -0.0014837527018150562, 0.001262361493838823, -0.0010740059093319464, 0.0009137557475988393, -0.0007774168471880295, 0.0006614211007479168, -0.0005627329433418974, 0.0004787698320559987, -0.0004073346143778151, 0.01224277501534225, 0.011752279716619064, -0.0005613288398858359, 0.00047772520832421587, -0.00040657349553170955, 0.011978638962154991, 0.011494872972453834, -0.0005495373494300648, 0.0004678304715024991, -0.000398272109920126, 0.01171944230206987, 0.011248509600976037, -0.0005328602813746876, 0.0007279100204771188, 0.05736077286081387, 0.04203930025547167, -0.015166275551685798, 0.012900344959945721, -0.010974848376504288, 0.009337914306439439, -0.007945851387516842, 0.006761754108437493, -0.005754384284664238, 0.004897260805262584, -0.004167910507127881, 0.003547246310382112, -0.0030190476100324876, 0.00256952397890067, -0.0021869474905655654, 0.0018613420384560122, -0.001584220298870639, 0.001348360710997333, -0.0011476181874370496, 0.0009767633308931383, -0.0008313457882403281, 0.0007075780715027202, -0.0006022367512787224, 0.0005125784070166482, -0.00043626811918175395, 0.00834680800978914, 0.007909444793693772, -0.0004383243004105377, 0.008223962980767066, 0.007786777130119392, -0.0004362447667435624, 0.008101410177368654, 0.007667861233279124, -0.00043128068283170256, 0.007980044695669836, 0.007552524277348765, -0.00042434427358423844, 0.007860482640281028, 0.007440604757347294, -0.0004160987419693113, 0.0077431370855599885, 0.007331951370207529, -0.0004070244554130052, 0.010838405329438432, 0.010379161995534658, -0.0005037805497291115, 0.0006749246849189536, 0.04438645276777519, 0.032774237318428316, -0.01177892657180694, 0.01002895472094512, -0.008539861531011002, 0.0072724167958555285, -0.006193418970693924, 0.005274719818446085, -0.004492424983941656, 0.003826232361613634, -0.003258880425913412, 0.002775685668233551, -0.0023641531251633514, 0.002013647433006128, -0.0017151143688318219, 0.0014608447351498594, -0.0012442739043838466, 0.0010598114856819087, -0.0009026964935052516, 0.0007688741416617364, -0.0006548909977485346, 0.00055780573958937, -0.0004751131781523202, 0.0006505217317559068, 0.034593790468468395, 0.025679903769214217, -0.009258685562553158, 0.00788279853410448, -0.00671180677925872, 0.005715032555844813, -0.004866454306372991, 0.004143976020722649, -0.0035288202297798932, 0.0030050204453251892, -0.0025589946963234973, 0.0021791859144332684, -0.0018557578845395282, 0.0015803376733278434, -0.0013457971195493445, 0.0011460672688841337, -0.0009759806666344049, 0.0008311372519985558, -0.0007077902760038258, 0.0006027492249675155, -0.0005132971970500098, 0.0004371205692407801, -0.00037224911986223787, 0.010631448197391886, 0.010205901307849935, -0.0004709861282707345, 0.00040118368080914083, -0.0003417263543180305, 0.010406175797960064, 0.010010885889501851, -0.00044096110015627164, 0.0006121308847563741, 0.01897742307439307, 0.014373626360150705, -0.005224301934115633, 0.004450459495411855, -0.0037913190769343712, 0.0032298494378737402, -0.0027515594876697845, 0.002344115124067108, -0.001997015501989024, 0.001701318902081902, -0.0014494102179467307, 0.0012348035062963083, -0.0010519741653516076, 0.0008962162043507216, -0.0007635207962404155, 0.0006504729049124306, -0.0005541632753385722, 0.0004721134900157477, -0.00040221214355056113, 0.002128867028143719, 0.007473743519285721, 0.005649037397883877, -0.00030523173772269526, 0.010510061186266826, 0.01014338278220045, -0.00041907204654346574, 0.0018675737884514532, 0.007117147934682437, 0.00556979674439957, -0.00031540525167811096, 0.010315711798400726, 0.009944329117060467, -0.00041912622184769313, 0.0018336577370035843, 0.012790767659128675, 0.011173905784533908, -0.00033067246753730895, 0.009816487140998306, 0.009441935328652343, -0.0004119889566894382, 0.0017959056445868288, 0.0124779988914376, 0.010899689293087881, -0.0003243411354143165, 0.009635177462260667, 0.009269347511732941, -0.00040123376963442425, 0.0019776863761192076, 0.006894438185054136, 0.005225997439536762, -0.00030300431316779584, 0.009764116911333243, 0.009413820424998531, -0.0003906554337288707, 0.006582450388315859, 0.006208416249534468, -0.00035987415231196273, 0.00924939920548378, 0.008860487378282425, -0.0004137115088659131, 0.001695456301412974, 0.06026836983774949, 0.05557069798781616, -0.0008013540856719124, 0.0006831888549422142, -0.0005824481900951846, 0.0004965625693652161, -0.00042334142738781425, 0.0005659953904762963, 0.014826342553370741, 0.011259605671729834, -0.004125474712804265, 0.00351686298956122, -0.0029980752194491214, 0.0025558398516988485, -0.0021788517639415206, 0.0018574787914529573, -0.0015835128527456148, 0.0013499585940245343, -0.0011508537093583848, 0.0009811160730983479, -0.0008364136113621164, 0.0007130534853468685, -0.0006078876926747258, 0.000518232637137155, -0.00044180058919996405, 0.00037664127272627124, -0.0003210920777424214, 0.009091742294163957, 0.00873853431226281, -0.0003806175391540934, 0.001644729868591993, 0.03773269680018138, 0.03508836242066583, -0.0004767823831257599, 0.0004064427254747, -0.00034648032973209404, 0.006280519104594282, 0.005947788197991078, -0.00032102195809691523, 0.008880246674951828, 0.008530784573790513, -0.00037373681102557884, 0.0015991326398769985, 0.04416690247869682, 0.04107108916743686, -0.000544240905662276, 0.0004639195103131051, -0.0003954523772810296, 0.0005322174848888913, 0.011546331451250117, 0.008802496737020315, -0.003262520193563125, 0.0027808850435191114, -0.0023703710698842586, 0.002020468869978673, -0.0017222247365677418, 0.0014680093252616507, -0.0012513211178820317, 0.001066619297951834, -0.0009091815435756491, 0.0007749829648568918, -0.0006605930060420588, 0.0005630876243497233, -0.0004799744680554439, 0.0004091291211454045, -0.0003487407724555674, 0.0017783774839353565, 0.005429098092436073, 0.003929252583244262, -0.00026142036380721564, 0.00948526152004117, 0.009175374113505235, -0.00035123130451162465, 0.0017494668938876608, 0.005356080339482664, 0.0038877393652099945, -0.0002630695759374114, 0.009319543581269945, 0.009011258199581889, -0.00034686386561039005, 0.0017159048418660947, 0.005285264329378318, 0.003847207659618037, -0.0002597280424070708, 0.00915551130196901, 0.008852962360896052, -0.00033909070985510786, 0.005802469583791132, 0.005481453525280351, -0.00030561046828990826, 0.008233485502965451, 0.007907694923679051, -0.00034302516835643193, 0.001647355292667085, 0.005180519008618296, 0.00380825472966396, -0.00025665645573050793, 0.008815725104954937, 0.008521641002666096, -0.00032603635544170063, 0.005554680122820005, 0.005247352920965438, -0.0002913732314666422, 0.007911570803526606, 0.007602791669338224, -0.0003236501431201628, 0.00541926986341156, 0.00511535125938452, -0.0002870885354828474, 0.007742078357937732, 0.007439462336359612, -0.00031588553832632033, 0.007656486471065649, 0.007330729357858488, -0.0003342014511293789, 0.00522855129624647, 0.004917551017034016, -0.0002912028094326601, 0.007481532740317057, 0.00717921640194706, -0.0003118203772233125, 0.007396501388076858, 0.00707791260820896, -0.0003243844372734584, 0.005034871988727745, 0.004734049396396494, -0.00028071067747147436, 0.007524098769669081, 0.00722998419985392, -0.00030557692572375975, 0.00714812935364492, 0.006838269152223806, -0.00031353351800870874, 0.007061756453687301, 0.006746312822674275, -0.00031709019799332916, 0.004792511365735329, 0.004500083538453123, -0.00027136736407295625, 0.00718951440143012, 0.006908026654125216, -0.0002901473117816551, 0.006820830185234961, 0.006528410101525136, -0.0002943748956394837, 0.006739502032868046, 0.00644454219463561, -0.0002954724744954957, 0.006657655717989878, 0.006362806149080248, -0.00029432979865877894, 0.006575971933941901, 0.006283119681154792, -0.00029160166812664353, 0.006494934187398844, 0.006205405202233918, -0.00028776920758789826, 0.006414881019327788, 0.00612958936745206, -0.0002831852037151724, 0.006626815425839124, 0.006342709146403636, -0.0002849056024887978, 0.006260977288676373, 0.0059799708555854465, -0.0002776835802891531, 0.006470773252066364, 0.006193286011471909, -0.00027733051778830605, 0.006394002347250791, 0.006117754970550696, -0.00027533207000207547, 0.0063176708563982, 0.006044045118443822, -0.00027217709417944275, 0.006242131570382965, 0.0059720903334732085, -0.00026822476685934595, 0.006167629264641524, 0.005901827928451752, -0.0002637383786751213, 0.006094329474144023, 0.005833198365252136, -0.00025891035434425056, 0.006470465901184623, 0.0062088215222230805, -0.0002639935715430026, 0.005955362118345741, 0.005695606022031045, -0.00025613992788131454, 0.006326791736928079, 0.006069257356690595, -0.00025873728004667117, 0.006255579948927945, 0.005996691356301499, -0.0002590277846230408, 0.006184131287105972, 0.0059258428810307654, -0.0002576652261557735, 0.0061129453277995035, 0.005856650279011148, -0.0002551317321861366, 0.006042377272030563, 0.005789055168117337, -0.0002517822992607538, 0.005972675959934744, 0.005723002138429185, -0.00024787779785242765, 0.010043815811404486, 0.009733868133897634, -0.00036310881152232976, 0.001032859050213103, 0.18701725754925003, 0.04362322464256495, -0.002186509281983012, 0.0021422229282279433, -0.0020988432035974783, 0.0020563509760995716, -0.002014727551152492, 0.001973954659645462, -0.0019340144464283474, 0.001894889459210418, -0.0018565626378517616, 0.0018190173040275278, -0.0017822371512473244, 0.0017462062352126152, -0.0017109089645012878, 0.001676330091559406, 0.00928305420963057, 0.009197669316679029, -0.0018116542219536957, 0.0017753565419961989, -0.0017397915964793885, 0.0017049442715195656, 0.009178213306511914, 0.009094737542746997, -0.001836233355979561, 0.0017997694066773328, -0.0017640352760983093, 0.001729016024177017, -0.001694697035980085, 0.0016610640135294216, -0.0016281029678934511, 0.0015958002115320535, -0.0015641423508798292, 0.0015331162791682787, -0.0015027091694650011, 0.0014729084679287318, -0.0014437018872727474, 0.001415077400418238, -0.0013870232343402497, 0.0013595278640962324, -0.0013325800070232146, 0.0013061686171070865, -0.0012802828795126441, 0.0012549122052656109, 0.009292692281482606, 0.009207130807944955, -0.001399593825855549, 0.001372100971121233, -0.0013451507047631014, 0.0013187321723187716, -0.0012928347448750755, 0.0012674480139037152, -0.0012425617862403006, 0.0012181660792026528, -0.001194251115843081, 0.001170807320331658, -0.001147825313462032, 0.001125295908276644, 0.009261982973913846, 0.00917698350078345, -0.0012716491244464643, 0.001246907102815515, -0.0012226483797634403, 0.0011988634060631255, -0.0011755428273634047, 0.0011526774798629254, -0.0011302583860983702, 0.0011082767508433292, -0.0010867239571145087, 0.0010655915622836127, -0.0010448712942861885, 0.0010245550479284157, -0.0010046348812918424, 0.0009851030122223336, 0.009237684279578566, 0.009153128188069974, -0.0011335161906189304, 0.0011116710821137694, -0.0010902483202639916, 0.0010692396631937166, -0.001048637034180339, 0.0010284325181027525, -0.001008618357978332, 0.0009891869515876916, -0.0009701308481845568, 0.0009514427452837883, -0.0009331154855310829, 0.0009151420536480374, -0.0008975155734497269, 0.0008802293049331942, -0.0008632766414382794, 0.0008466511068755303, -0.0008303463530160166, 0.0008143561568444706, -0.0007986744179766482, 0.0007832951561375595, -0.0007682125086949409, 0.0007534207282454411, -0.0007389141802643066, 0.0007246873408003101, -0.0007107347942256159, 0.0006970512310377033, -0.0006836314457061027, 0.0006704703345693836, -0.0006575628937796295, 0.0006449042172883403, -0.000632489494878155, 0.0006203140102391906, -0.0006083731390841229, 0.000596662347304822, -0.0005851771891694888, 0.0005739133055568721, -0.0005628664222312927, 0.0005520323481481784, -0.000541406973801452, 0.0005309862696052392, -0.0005207662843042133, 0.0005107431434239951, -0.0005009130477504779, 0.0004912722718390472, -0.0004818171625596236, 0.0004725441376680253, 0.009391411036482535, 0.009304030516604611, -0.0006365847006490306, 0.0006244436349698107, -0.0006125343649909103, 0.0006008524518896646, 0.009241107505730574, 0.009156489019669728, -0.0007570808876225461, 0.0007427699088857939, -0.0007287298505281246, 0.0007149555614013748, -0.0007014419895396849, 0.0006881841801850043, -0.0006751772738491063, 0.0006624165044199478, -0.000649897197311839, 0.0006376147676512111, -0.0006255647185024093, 0.0006137426391346577, -0.000602144203321804, 0.0005907651676800814, -0.0005796013700390018, 0.000568648727850913, -0.0005579032366298294, 0.0005473609684237305, -0.0005370180703202388, 0.0005268707629793284, -0.0005169153392020885, 0.0005071481625265883, -0.000497565665849461, 0.000488164350079062, -0.0004789407828165269, 0.0004698915970622119, -0.0004610134899492292, 0.00045230322150132676, -0.00044375761341754595, 0.00043537354787903464, -0.00042714796638595304, 0.00041907786860982335, -0.0004111603112707679, 0.00040339240704265954, -0.000395771323475416, 0.0003882942819380433, -0.0003809585565851869, 0.0003737614733445279, -0.00036670040892025635, 0.0003597727898218189, -0.00035297609140723694, 0.0003463078369476083, -0.00033976559671047987, 0.0003333469870574326, -0.0003270496695656369, 0.000320871350160796, -0.00031480977827159077, 0.0003088627459963942, -0.000303028087287179, 0.0002973036771555148, -0.000291687430884438, 0.0002861773032631357, -0.00028077128783060324, 0.00027546741613866465, -0.00027026375702950486, 0.00026515841592183553, -0.0002601495341180356, 0.00025523528811622145, -0.00025041388894392645, 0.0002456835815028381, -0.0002410426439194751, 0.00023648938691683334, -0.00023202215319330344, 0.00022763931681637516, -0.00022333928262456467, 0.00021912048564334425, -0.00021498139051482474, 0.00021092049092965274, -0.0002069363090810111, 0.00020302739511903313, -0.00019919232662284008, 0.00019542970808173908, -0.00019173817037950868, 0.00018811637029765848, -0.00018456299002284228, 0.00018107673666652892, -0.0001776563417920602, 0.00017430056094651418, -0.00017100817321355843, 0.00016777798076398064, -0.00016460880841551233, 0.00016149950320685697, -0.00015844893397722732, 0.00015545599095121758, -0.00015251958533405417, 0.00014963864891653108, -0.000146812133682587, 0.00014403901142678172, -0.0001413182733814815, 0.00013864892984720507, -0.00013603000983198655, 0.00013346056069687328, -0.00013093964780914864, 0.0001284663542019339, -0.00012603978023910603, 0.00012365904328769106, -0.00012132327739503479, 0.00011903163297484103, -0.00011678327649643493, 0.0001145773901816714, -0.00011241317170745867, 0.0001102898339108162, -0.00010820660450445906, 0.00010616272579547865, -0.00010415745440938413, 0.00010219006101775584, -0.00010025983007288647, 9.836605954841637e-05, -9.650806068237126e-05, 9.468515772806246e-05, -9.28966877080299e-05, 9.114200016952492e-05, -8.942045694872717e-05, 8.773143194034825e-05, 0.00940152350612805, 0.009313955577899222, -0.0002595788705764361, 0.0002547208526640858, -0.0002499537687697383, 0.00024527591586674164, -0.00024068562287138463, 0.00023618125004103187, -0.00023176118838501232, 0.00022742385908602322, -0.0002231677129308787, 0.00021899122975358706, -0.00021489291788713737, 0.00021087131362964033, -0.00020692498071722443, 0.00020305250980867074, -0.0001992525179778564, 0.0001955236482169682, -0.00019186456895082472, 0.00018827397355857372, -0.0001847505799039649, 0.00018129312987522368, -0.00017790038893391121, 0.00017457114567279072, -0.00017130421138127446, 0.00016809841961795395, -0.00016495262579353776, 0.0001618657067612939, -0.0001588365604129999, 0.00015586410528459056, -0.00015294728016924106, 0.00015008504373721884, -0.0001472763741621677, 0.00014452026875525102, -0.00014181574360639794, 0.0001391618332334295, -0.00013655759023342877, 0.00013400208494622923, -0.00013149440512223078, 0.00012903365559189712, -0.00012661895794887411, 0.00012424945023566274, -0.0001219242866344827, 0.00011964263716481179, -0.00011740368738560345, 0.00011520663810525003, -0.00011305070509572073, 0.00011093511881076934, -0.00010885912411303224, 0.00010682198000224643, -0.00010482295935141108, 0.00010286134864486808, -0.0001009364477259915, 9.904756954469048e-05, -9.719403991359652e-05, 9.537519726614092e-05, -9.35903924181378e-05, 9.183898834153262e-05, -9.012035993156908e-05, 8.843389378272464e-05, -8.677898797443305e-05, 8.515505185287766e-05, -8.356150581992862e-05, 8.199778112706576e-05, -8.046331967145538e-05, 7.895757379623552e-05, -7.748000609513715e-05, 7.603008922371871e-05, -7.460730570566914e-05, 7.321114775073314e-05, -7.184111707297175e-05, 7.049672471377467e-05, -6.917749086583201e-05, 6.788294470062506e-05, -6.661262420513652e-05, 6.536607601241756e-05, -6.414285523955787e-05, 6.294252533049953e-05, -6.176465790148637e-05, 6.06088325863826e-05, -5.947463688345015e-05, 5.836166601408359e-05, -5.7269522775281645e-05, 5.619781739767914e-05, -5.514616740722314e-05, 5.411419748582011e-05, -5.310153934101507e-05, 5.210783157414243e-05, -5.11327195487817e-05, 5.017585526605539e-05, -4.9236897240363815e-05, 4.8315510375759945e-05, -4.741136584794082e-05, 4.65241409886337e-05, -4.5653519166349916e-05, 4.4799189674800574e-05, -4.396084762364089e-05, 4.313819382772171e-05, -4.233093470115392e-05, 4.153878215314959e-05, -4.0761453484381236e-05, 3.999867128482883e-05, -3.9250163336479635e-05, 3.851566251620201e-05, -3.779490670062567e-05, 0.0002549405631555675, 0.00021779739703379136, -3.6503623847385906e-05, 0.0002535784467009648, 0.00021770271589148377, -3.525958965318401e-05, 0.0002522627820714254, 0.00021760811201409163, -3.406107228734898e-05, 0.0002509918695674233, 0.00021751358548932826, -3.2906403407760416e-05, 0.0002497640717996716, 0.00021741913639702787, -3.179397583430714e-05, 0.00024857781139566663, 0.00021732476481169796, -3.072224130262044e-05, 0.0002474315688078254, 0.0002172304708014095, -2.9689708305786263e-05, 0.00024632388018683076, 0.00021713625442679825, -2.869494001525362e-05, 0.00024525333534394317, 0.00021704211574339515, -2.7736552271380347e-05, 0.0002442185757796505, 0.00021694805479996175, -2.6813211659650092e-05, 0.00024321829279231572, 0.00021685407164059867, -2.5923633638798812e-05, 0.00024225122564574668, 0.00021676016630319195, -2.5066580759591348e-05, 0.00024131615982044206, 0.0002166663388203009, -2.4240860935269285e-05, 0.00024041192530990452, 0.00021657258922037876, -2.3445325773766555e-05, 0.0004736120480296132, 0.00045039211049711713, -2.2998771629303333e-05, 0.0002389042451310019, 0.00021628413985271637, -2.224852545789572e-05, 0.0007881123417658906, 0.0007656766620618814, -2.2619345715524687e-05, 0.001021411193392353, 0.0009981954664081661, -2.380097419281925e-05, 0.00023883690010192423, 0.00021542974212148414, -2.3020710501477727e-05, 0.0002379783417963172, 0.00021533705497872355, -2.226896252666971e-05, 0.0007853002374340603, 0.0007628488008004354, -2.263051061102431e-05, 0.0007844917394212707, 0.0007616870195988134, -2.2975683902136246e-05, 0.000237186283771772, 0.00021458947220983997, -2.222502735218866e-05, 0.0002363575027301529, 0.0002144975036915735, -2.1501799817333785e-05, 0.00046793969550581034, 0.00044663109193907155, -2.111902552932098e-05, 0.0010150410535046644, 0.0009933087859740053, -2.2334061455117813e-05, 0.0007810112700316577, 0.0007585025073393716, -2.268020996371025e-05, 0.0007802008725158815, 0.0007573539192901337, -2.301059171591443e-05, 0.00023577303270141885, 0.00021314249652456803, -2.2257589002673936e-05, 0.0007785730577659025, 0.0007561429693953805, -2.2599375243951602e-05, 0.0007777655219011297, 0.0007550015106875188, -2.292558208885912e-05, 0.00023495597572092565, 0.0002124091501471365, -2.2175152197216846e-05, 0.0007761437049930514, 0.0007537981149109654, -2.2512854304352203e-05, 0.0004641329660170805, 0.00044183595538851934, -2.2085207084204334e-05, 0.001007878274791377, 0.0009852129853072506, -2.3234549505121755e-05, 0.00023424516286010366, 0.0002113954509240762, -2.2472069817340126e-05, 0.0010062637733463829, 0.0009832224009985841, -2.3600055499990885e-05, 0.00023409955326751688, 0.00021089126843785706, -2.2823838427699306e-05, 0.0004621564939563055, 0.0004395561370023294, -2.2381057418858006e-05, 0.0010038271403865512, 0.0009808797714223622, -2.3503118233401587e-05, 0.00023331763110687377, 0.0002102047389634745, -2.272996047963019e-05, 0.0004607395997426827, 0.0004382325428550798, -2.228832383891487e-05, 0.0010014005422259095, 0.0009785488334430232, -2.3404587328408166e-05, 0.0007690188016441332, 0.000745478287227025, -2.3673914953828364e-05, 0.00023249043991914765, 0.00020921026359761204, -2.289379635539078e-05, 0.0004589323973137101, 0.0004362661791092856, -2.244289714175647e-05, 0.0007665345941805144, 0.0007439407928201078, -2.2741898784420398e-05, 0.0007657216479826913, 0.0007428358570859845, -2.3027007533174122e-05, 0.0002309654212663677, 0.00020832052519828933, -2.226992490407736e-05, 0.0007640925546837557, 0.0007416719914581673, -2.2568399896434033e-05, 0.0007632858290298937, 0.0007405737784502091, -2.2853030456430214e-05, 0.000994117605790401, 0.0009707264604867405, -2.391923058332e-05, 0.00045606109681712263, 0.00043239146023839976, -2.342470945968411e-05, 0.00023007105467362504, 0.0002070362601286834, -2.265216392344942e-05, 0.0004543682522631562, 0.00043194293936347404, -2.220270356252743e-05, 0.0009908477089490412, 0.0009681004565564401, -2.328165222980614e-05, 0.0004537783337363631, 0.000430736039677372, -2.2807410747396254e-05, 0.0007584262880499089, 0.0007354870073053379, -2.306870079305872e-05, 0.0004525657195547001, 0.0004297333414194212, -2.2600473226878972e-05, 0.0007567863996223928, 0.0007340524497987442, -2.2864946501392867e-05, 0.0009867961550173695, 0.0009634074705976158, -2.3902665011704896e-05, 0.0002285213414154479, 0.00020501812766167722, -2.3111222024746965e-05, 0.00022766054066479592, 0.00020493418577355074, -2.234867489921568e-05, 0.0004498872002414423, 0.00042776335940152623, -2.190320899812282e-05, 0.0007531417384753615, 0.0007310968556420947, -2.2183923683540646e-05, 0.000752348711489943, 0.0007300297135299487, -2.245156273694867e-05, 0.0004483751248282299, 0.00042615162915115613, -2.1999690603722924e-05, 0.0009811984863679745, 0.0009586688334977771, -2.3049743192761593e-05, 0.0007503876127589331, 0.0007272224211677247, -2.3278497664206286e-05, 0.0004473904758807428, 0.0004243566283924433, -2.2793768199649495e-05, 0.00044655461619621926, 0.0004239969572155801, -2.2325961036569044e-05, 0.0009779642913281127, 0.0009551209464875593, -2.335109356757447e-05, 0.000747549437477469, 0.0007240928380690654, -2.3560148957514165e-05, 0.00022536039825859255, 0.00020219435981069894, -2.2779283856482603e-05, 0.0007458822890889374, 0.0007229888321402501, -2.3005511777670468e-05, 0.0004443011347747952, 0.00042153762996222647, -2.252601811817986e-05, 0.0009738873679666975, 0.0009508556475306641, -2.3528007939974896e-05, 0.00044365855241784003, 0.00042038303272291485, -2.3027746828151633e-05, 0.00022374196716257885, 0.0002010988814551496, -2.226560268640721e-05, 0.0009714487532786766, 0.000948676973258273, -2.3268534495411314e-05, 0.00022351651555579206, 0.00020063723875205026, -2.2497282236326922e-05, 0.0009698308369764034, 0.0009468349781533474, -2.3485155444505066e-05, 0.00044153292367596174, 0.0004183011711548379, -2.298308092823908e-05, 0.00044069023696493746, 0.00041795169125028006, -2.2498576219849752e-05, 0.000738999583727068, 0.00071639126329888, -2.2716029544238855e-05, 0.00043948089837099713, 0.00041700531172606946, -2.223963271609009e-05, 0.0007373850972980703, 0.0007150330170227439, -2.2462442291896554e-05, 0.0007365816630687851, 0.0007140122319130434, -2.2674436487289136e-05, 0.0002211178005083841, 0.00019882228132727043, -2.192366971128452e-05, 0.0007349774175898442, 0.0007129386203202918, -2.2151789310014577e-05, 0.00043672889139581236, 0.0004148090480576754, -2.1692226869895542e-05, 0.0009618648551527756, 0.0009396733008703547, -2.2681590423347876e-05, 0.0007330379474192128, 0.0007102586392611837, -2.2875215684975458e-05, 0.00043572955051268073, 0.0004131008578876917, -2.238677023325091e-05, 0.00043490888270327356, 0.0004127600074072376, -2.1915419966732152e-05, 0.0009586860778597401, 0.0009362816536549028, -2.288433145507186e-05, 0.00043428511742612364, 0.000411648649328972, -2.239322975359619e-05, 0.0007294397321389513, 0.0007069482913293816, -2.258783257869731e-05, 0.0007286315885173512, 0.0007059504480638776, -2.2772720612055614e-05, 0.0002186220455828653, 0.00019623092845877157, -2.201662803778164e-05, 0.0009546992750613633, 0.0009322030626295651, -2.2966877416244424e-05, 0.0009538950753357918, 0.0009304686897727692, -2.387735010343884e-05, 0.00021890007739320738, 0.00019542495773327984, -2.308038671733398e-05, 0.0007253903624475363, 0.00070223072744011, -2.3237418177670993e-05, 0.00021792153299784892, 0.022756489137499333, 0.02205924160952749, 0.009307110010760226, 0.009221284050410046, 0.009137026566727054, 0.00905429495180327, 0.00897304812718964, 0.008893246475877411, 0.008814851777877919, 0.008737827149180777, 0.008662136983883082, 0.008587746899302844, 0.008514623683897294, 0.008442735247816456, 0.008372050575944293, 0.008302539683278638, 0.008234173572515852, 0.008166924193712599, -0.0012380928648373887, 0.0012165032764746416, -0.0011952919321763695, 0.0011744521143908333, -0.0011539772295176731, 0.0011338608053829843, -0.0011140964887810974, 0.0010946780430747519, -0.001075599345856729, 0.0010568543866662798, -0.001038437264759634, 0.0010203421869371034, -0.0010025634654179012, 0.0009850955157686518, 0.008227379745839024, 0.00816024084311497, -0.0011011150149840766, 0.0010820789816753586, -0.001063373288169008, 0.0010449921385445441, -0.0010269298417945087, 0.0010091808097602727, 0.008145598070142082, 0.00807978196985283, -0.0011223082958112846, 0.0011030598302922063, -0.0010841428106666904, 0.0010655514630123267, -0.0010472801173472969, 0.0010293232055931382, -0.0010116752595848465, 0.000994330909124554, 0.0080831359923183, 0.008018321409672523, -0.0011058747320152594, 0.00108706001395052, -0.001068566661920784, 0.001050389123521478, -0.0010325219454423917, 0.0010149597715427773, -0.0009976973409705934, 0.0009807294863305525, -0.000964051131884032, 0.0009476572917956153, -0.0009315430684229412, 0.0009157036506390292, 0.008051399879020031, 0.007987091235129105, -0.00102772439682319, 0.0010103826071040207, -0.000993334456668838, 0.0009765749230519576, -0.0009600990721944552, 0.0009439020567656866, -0.0009279791145208949, 0.000912325566697054, -0.0008969368164427061, 0.000881808347283446, -0.0008669357216233498, 0.0008523145792718482, -0.00083794063601138, 0.0008238096821911733, -0.0008099175813490091, 0.0007962602688674523, -0.0007828337506516981, 0.0007696341018435408, -0.0007566574655549107, 0.000743900051629623, -0.0007313581354336474, 0.0007190280566666151, 0.00807604199579772, 0.00801134067667798, -0.0008352721997805893, 0.0008212984344837269, -0.0008075589895455097, 0.0007940499088736174, -0.0007807673044884471, 0.0007677073552881819, -0.0007548663058380463, 0.0007422404651802108, -0.0007298262056726008, 0.0007176199618503283, -0.0007056182293083232, 0.0006938175636092368, 0.00802075908348776, 0.007956937050658506, -0.000808843016581953, 0.0007954193576025474, -0.0007822189744202582, 0.0007692381290640601, -0.0007564731473265929, 0.0007439204176173328, -0.0007315763898422746, 0.0007194375743028222, -0.0007075005406201267, 0.0006957619166804993, -0.0006842183875988301, 0.0006728666947061569, -0.0006617036345550675, 0.0006507260579456564, -0.0006399308689704659, 0.0006293150240772786, -0.000618875531150078, 0.0006086094486088248, -0.0005985138845279757, 0.0005885859957650622, 0.008004370374117489, 0.00794080786024818, -0.0007049385489540283, 0.0006933348213755531, -0.0006819224263097761, 0.0006706981929790272, -0.0006596590039230402, 0.0006488017940660528, -0.0006381235498015915, 0.0006276213080948138, -0.0006172921555988878, 0.000607133227793872, -0.0005971417081394796, 0.0005873148272416544, -0.000577649862038825, 0.0005681441350008999, -0.0005587950133439591]\n"
     ]
    }
   ],
   "source": [
    "print(beta_list)"
   ]
  },
  {
   "cell_type": "code",
   "execution_count": null,
   "metadata": {},
   "outputs": [],
   "source": []
  }
 ],
 "metadata": {
  "kernelspec": {
   "display_name": "Python 3",
   "language": "python",
   "name": "python3"
  },
  "language_info": {
   "codemirror_mode": {
    "name": "ipython",
    "version": 3
   },
   "file_extension": ".py",
   "mimetype": "text/x-python",
   "name": "python",
   "nbconvert_exporter": "python",
   "pygments_lexer": "ipython3",
   "version": "3.7.4"
  }
 },
 "nbformat": 4,
 "nbformat_minor": 4
}
