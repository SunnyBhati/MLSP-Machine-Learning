{
 "cells": [
  {
   "cell_type": "code",
   "execution_count": 1,
   "metadata": {},
   "outputs": [],
   "source": [
    "from scipy.io import wavfile\n",
    "import numpy as np\n",
    "import os\n",
    "import math\n",
    "import matplotlib.pyplot as plt\n",
    "import os\n",
    "import seaborn as sns\n",
    "import random\n",
    "import sys\n",
    "import scipy.spatial.distance as scipydt\n",
    "from numpy.linalg import inv\n",
    "from scipy.spatial import distance\n",
    "from tqdm import tqdm\n",
    "from scipy.stats import multivariate_normal"
   ]
  },
  {
   "cell_type": "code",
   "execution_count": 2,
   "metadata": {},
   "outputs": [],
   "source": [
    "img = plt.imread('im0.ppm')\n",
    "left_img = img"
   ]
  },
  {
   "cell_type": "code",
   "execution_count": 3,
   "metadata": {},
   "outputs": [],
   "source": [
    "img2 = plt.imread('im8.ppm')\n",
    "right_img = img2"
   ]
  },
  {
   "cell_type": "code",
   "execution_count": 4,
   "metadata": {},
   "outputs": [],
   "source": [
    "d_matrix=np.zeros((381,390))"
   ]
  },
  {
   "cell_type": "code",
   "execution_count": 5,
   "metadata": {},
   "outputs": [],
   "source": [
    "for i in range(len(right_img)):\n",
    "    row_selection=right_img[i,:]\n",
    "    for j in range (len(left_img[0])-40):\n",
    "        dist=np.argmin(distance.cdist([row_selection[j]], left_img[i,j:j+40], 'euclidean')[0])\n",
    "        d_matrix[i][j]=dist"
   ]
  },
  {
   "cell_type": "code",
   "execution_count": 6,
   "metadata": {},
   "outputs": [],
   "source": [
    "reshaped_matrix_d=np.reshape(d_matrix,(1,381*390))"
   ]
  },
  {
   "cell_type": "code",
   "execution_count": 7,
   "metadata": {},
   "outputs": [
    {
     "data": {
      "image/png": "[encoded data removed]",
      "text/plain": [
       "<Figure size 432x288 with 1 Axes>"
      ]
     },
     "metadata": {},
     "output_type": "display_data"
    }
   ],
   "source": [
    "plt.style.use('ggplot')\n",
    "plt.hist(reshaped_matrix_d[0], bins=40)\n",
    "plt.show()"
   ]
  },
  {
   "cell_type": "code",
   "execution_count": 8,
   "metadata": {},
   "outputs": [
    {
     "data": {
      "text/plain": [
       "Text(0.5, 1.0, 'Histogram')"
      ]
     },
     "execution_count": 8,
     "metadata": {},
     "output_type": "execute_result"
    },
    {
     "data": {
      "image/png": "[encoded data removed]",
      "text/plain": [
       "<Figure size 432x288 with 1 Axes>"
      ]
     },
     "metadata": {},
     "output_type": "display_data"
    }
   ],
   "source": [
    "import scipy.stats as st\n",
    "plt.hist(reshaped_matrix_d[0], density=True, bins=40, label=\"Data\")\n",
    "mn, mx = plt.xlim()\n",
    "plt.xlim(mn, mx)\n",
    "kde_xs = np.linspace(mn, mx, 301)\n",
    "kde = st.gaussian_kde(reshaped_matrix_d[0])\n",
    "plt.plot(kde_xs, kde.pdf(kde_xs), label=\"PDF\")\n",
    "plt.legend(loc=\"upper left\")\n",
    "plt.ylabel('Probability')\n",
    "plt.xlabel('Data')\n",
    "plt.title(\"Histogram\")"
   ]
  },
  {
   "cell_type": "markdown",
   "metadata": {},
   "source": [
    "From the graph we can see that there exists 4 clusters visible by the peaks"
   ]
  },
  {
   "cell_type": "code",
   "execution_count": 9,
   "metadata": {},
   "outputs": [],
   "source": [
    "n_gaussians=4\n",
    "\n",
    "## Intialising prior probailities\n",
    "prior_probability=np.ones(n_gaussians)*(1/n_gaussians)\n",
    "\n",
    "disparity=reshaped_matrix_d[0]"
   ]
  },
  {
   "cell_type": "code",
   "execution_count": 10,
   "metadata": {},
   "outputs": [
    {
     "name": "stdout",
     "output_type": "stream",
     "text": [
      "[6, 15, 23, 32]\n"
     ]
    }
   ],
   "source": [
    "## Intializing means\n",
    "means=[6,15,23,32]\n",
    "print(means)\n",
    "\n",
    "##Intializing sigma\n",
    "sigma=np.random.uniform(0,20,n_gaussians)\n",
    "\n",
    "##Intializing likelihood(probability of data point given cluster)\n",
    "L=np.zeros([len(disparity),n_gaussians])\n",
    "\n",
    "## Inialising posterior probabilities\n",
    "U=np.zeros([len(disparity),n_gaussians])"
   ]
  },
  {
   "cell_type": "code",
   "execution_count": 11,
   "metadata": {},
   "outputs": [
    {
     "data": {
      "text/plain": [
       "0.553131736519039"
      ]
     },
     "execution_count": 11,
     "metadata": {},
     "output_type": "execute_result"
    }
   ],
   "source": [
    "np.random.uniform(0,1,1)[0]"
   ]
  },
  {
   "cell_type": "code",
   "execution_count": 12,
   "metadata": {},
   "outputs": [
    {
     "name": "stderr",
     "output_type": "stream",
     "text": [
      " 20%|██        | 2050/10000 [00:40<02:27, 53.84it/s]"
     ]
    }
   ],
   "source": [
    "iterations=10000\n",
    "for iter in tqdm(range(iterations)):\n",
    "    \n",
    "    \n",
    "    mu_previous,sigma_previous=means.copy(),sigma.copy()\n",
    "    \n",
    "    for i in range(n_gaussians):\n",
    "        \n",
    "        L[:,i]=multivariate_normal.pdf(disparity,mu_previous[i],sigma_previous[i])\n",
    "        \n",
    "    \n",
    "    ### Normalisation\n",
    "    \n",
    "    P_normalise= np.sum(prior_probability*L,axis=1)\n",
    "    \n",
    "    U= prior_probability*L/P_normalise.reshape(-1,1)\n",
    "    \n",
    "    ## M_step\n",
    "    \n",
    "    prior_probability=np.mean(U,axis=0)\n",
    "    \n",
    "    for k in range(n_gaussians):\n",
    "        \n",
    "        means[k]= np.dot(U[:,k],disparity)/np.sum(U[:,k])\n",
    "        sigma[k]=np.sum(U[:,k]*(disparity-means[k])**2)/np.sum(U[:,k])\n",
    "    \n",
    "    \n",
    "    if np.array_equal(np.round(means, 7), np.round(mu_previous, 7)) and np.array_equal(np.round(sigma, 7),np.round(sigma_previous, 7)):\n",
    "        break"
   ]
  },
  {
   "cell_type": "code",
   "execution_count": 13,
   "metadata": {},
   "outputs": [],
   "source": [
    "sd=np.argmax(U,axis=1)\n",
    "sd1=[]\n",
    "for i in range(len(sd)):\n",
    "    sd1.append(means[sd[i]])"
   ]
  },
  {
   "cell_type": "code",
   "execution_count": 14,
   "metadata": {},
   "outputs": [
    {
     "data": {
      "image/png": "[encoded data removed]",
      "text/plain": [
       "<Figure size 432x288 with 1 Axes>"
      ]
     },
     "metadata": {},
     "output_type": "display_data"
    }
   ],
   "source": [
    "GMM_matrix=np.reshape(sd1,(381,390))\n",
    "sns.set(style=\"white\", context=\"talk\")\n",
    "plt.imshow(GMM_matrix,cmap='gray')\n",
    "plt.savefig('GMM.png')\n",
    "plt.show()"
   ]
  },
  {
   "cell_type": "code",
   "execution_count": 15,
   "metadata": {},
   "outputs": [
    {
     "name": "stdout",
     "output_type": "stream",
     "text": [
      "[7.431572762567511, 15.393872843888945, 23.290659925036852, 34.32177543230622]\n"
     ]
    }
   ],
   "source": [
    "print(means)"
   ]
  },
  {
   "cell_type": "code",
   "execution_count": 16,
   "metadata": {},
   "outputs": [],
   "source": [
    "def neighbors(data,x, y):\n",
    "    if x==0 and y==0:\n",
    "        return np.array([data[x, y+1],data[x+1, y+1],data[x+1, y]])\n",
    "    if x==380 and y==0:\n",
    "        return np.array([data[x-1, y],data[x-1, y+1],data[x, y+1]])\n",
    "    if x==0 and y==389:\n",
    "        return np.array([data[x, y-1],data[x+1, y-1],data[x+1, y]])\n",
    "    if x==380 and y==389:\n",
    "        return np.array([data[x-1, y],data[x-1, y-1],data[x, y-1]])\n",
    "    if x == 0:\n",
    "        return np.array([data[x, y+1],data[x, y-1],data[x+1, y-1],data[x+1, y],data[x+1, y+1]])\n",
    "    if x == 380:\n",
    "        return np.array([data[x, y+1],data[x, y-1],data[x-1, y-1],data[x-1, y],data[x-1, y+1]])\n",
    "    if y == 0:\n",
    "        return np.array([data[x-1, y],data[x+1, y],data[x-1, y+1],data[x, y+1],data[x+1, y+1]])\n",
    "    if y == 389:\n",
    "        return np.array([data[x-1, y],data[x+1, y],data[x-1, y-1],data[x, y-1],data[x+1, y-1]])\n",
    "    else:\n",
    "        return np.array([data[x-1, y-1],data[x-1, y],data[x-1, y+1],data[x, y-1],data[x, y+1],data[x+1, y-1],data[x+1, y],data[x+1, y+1]])"
   ]
  },
  {
   "cell_type": "code",
   "execution_count": 17,
   "metadata": {},
   "outputs": [],
   "source": [
    "initialmeans=GMM_matrix.copy()\n",
    "assigned_class=np.reshape(sd,(381,390))"
   ]
  },
  {
   "cell_type": "code",
   "execution_count": 18,
   "metadata": {},
   "outputs": [],
   "source": [
    "def Cumulative(lists):  \n",
    "    cu_list = []  \n",
    "    length = len(lists)  \n",
    "    cu_list = [sum(lists[0:x:1]) for x in range(0, length+1)]  \n",
    "    return cu_list[1:]"
   ]
  },
  {
   "cell_type": "code",
   "execution_count": 19,
   "metadata": {},
   "outputs": [
    {
     "name": "stderr",
     "output_type": "stream",
     "text": [
      "\n",
      " 20%|██        | 2050/10000 [01:00<02:27, 53.84it/s]\n",
      "  3%|▎         | 1/30 [00:27<13:24, 27.75s/it]\u001b[A\n",
      "  7%|▋         | 2/30 [00:48<11:54, 25.51s/it]\u001b[A\n",
      " 10%|█         | 3/30 [01:06<10:32, 23.43s/it]\u001b[A\n",
      " 13%|█▎        | 4/30 [01:27<09:51, 22.75s/it]\u001b[A\n",
      " 17%|█▋        | 5/30 [01:50<09:28, 22.74s/it]\u001b[A\n",
      " 20%|██        | 6/30 [02:10<08:46, 21.95s/it]\u001b[A\n",
      " 23%|██▎       | 7/30 [02:31<08:16, 21.60s/it]\u001b[A\n",
      " 27%|██▋       | 8/30 [02:52<07:55, 21.59s/it]\u001b[A\n",
      " 30%|███       | 9/30 [03:10<07:09, 20.46s/it]\u001b[A\n",
      " 33%|███▎      | 10/30 [03:28<06:33, 19.68s/it]\u001b[A\n",
      " 37%|███▋      | 11/30 [03:46<06:02, 19.09s/it]\u001b[A\n",
      " 40%|████      | 12/30 [04:04<05:36, 18.67s/it]\u001b[A\n",
      " 43%|████▎     | 13/30 [04:21<05:12, 18.38s/it]\u001b[A\n",
      " 47%|████▋     | 14/30 [04:39<04:51, 18.20s/it]\u001b[A\n",
      " 50%|█████     | 15/30 [04:57<04:31, 18.12s/it]\u001b[A\n",
      " 53%|█████▎    | 16/30 [05:15<04:11, 17.98s/it]\u001b[A\n",
      " 57%|█████▋    | 17/30 [05:32<03:52, 17.87s/it]\u001b[A\n",
      " 60%|██████    | 18/30 [05:50<03:34, 17.86s/it]\u001b[A\n",
      " 63%|██████▎   | 19/30 [06:08<03:15, 17.78s/it]\u001b[A\n",
      " 67%|██████▋   | 20/30 [06:25<02:57, 17.72s/it]\u001b[A\n",
      " 70%|███████   | 21/30 [06:43<02:39, 17.72s/it]\u001b[A\n",
      " 73%|███████▎  | 22/30 [07:01<02:22, 17.76s/it]\u001b[A\n",
      " 77%|███████▋  | 23/30 [07:19<02:04, 17.74s/it]\u001b[A\n",
      " 80%|████████  | 24/30 [07:36<01:46, 17.75s/it]\u001b[A\n",
      " 83%|████████▎ | 25/30 [07:54<01:28, 17.76s/it]\u001b[A\n",
      " 87%|████████▋ | 26/30 [08:12<01:11, 17.78s/it]\u001b[A\n",
      " 90%|█████████ | 27/30 [08:30<00:53, 17.79s/it]\u001b[A\n",
      " 93%|█████████▎| 28/30 [08:48<00:35, 17.87s/it]\u001b[A\n",
      " 97%|█████████▋| 29/30 [09:06<00:17, 17.84s/it]\u001b[A\n",
      "100%|██████████| 30/30 [09:24<00:00, 18.82s/it]\u001b[A\n"
     ]
    }
   ],
   "source": [
    "no_of_iteration=30\n",
    "a=5\n",
    "class_list = []\n",
    "for reps in tqdm(range(no_of_iteration)):\n",
    "    new_class=[]\n",
    "\n",
    "    for i in range(len(initialmeans)): \n",
    "        \n",
    "        for j in range(len(initialmeans[0])):\n",
    "            \n",
    "            index = i *initialmeans.shape[1] + j\n",
    "            \n",
    "            Nei_class=neighbors(assigned_class,i,j)\n",
    "            \n",
    "            list_ofP_neighbors=[]\n",
    "            \n",
    "            for k in range(4):\n",
    "            \n",
    "                z = list(np.equal(k, Nei_class))\n",
    "\n",
    "                f_c = np.array([0 if x == True else a for x in z])\n",
    "\n",
    "                P_c = np.exp(np.negative(np.square(f_c)))\n",
    "\n",
    "                P_c_nei = np.prod(P_c)\n",
    "                \n",
    "                list_ofP_neighbors.append(P_c_nei)   \n",
    "\n",
    "            x = L[index, :]\n",
    "            \n",
    "            P_c_x = np.array(x) * np.array(list_ofP_neighbors)\n",
    "            \n",
    "            P_c_x_sum = np.sum(P_c_x)\n",
    "            \n",
    "            P_c_x = P_c_x / P_c_x_sum\n",
    "            \n",
    "            random_number=np.random.uniform(0,1,1)[0]\n",
    "            \n",
    "            p_c_x_sort=np.sort(P_c_x)\n",
    "            \n",
    "            cumulativelist= Cumulative(p_c_x_sort)\n",
    "            \n",
    "            for l in range(len(cumulativelist)):\n",
    "                if random_number<=cumulativelist[l]:\n",
    "                    index1=l\n",
    "                    break\n",
    "                else:\n",
    "                    l=l+1\n",
    "            index2=np.argsort(P_c_x)\n",
    "            \n",
    "            final_class=index2[index1]\n",
    "            \n",
    "            new_class.append(final_class)\n",
    "            \n",
    "    class_list.append(new_class)\n",
    "    new_class1 = np.array(new_class)\n",
    "    new_class2 = new_class1.reshape((381, 390))\n",
    "    assigned_class = new_class2.copy()            "
   ]
  },
  {
   "cell_type": "code",
   "execution_count": 20,
   "metadata": {},
   "outputs": [],
   "source": [
    "gh1=np.array(class_list)"
   ]
  },
  {
   "cell_type": "code",
   "execution_count": 21,
   "metadata": {},
   "outputs": [],
   "source": [
    "final_list_Gibbs=[]\n",
    "for kl in range (len(gh1[0])):\n",
    "    counts = np.bincount(np.array(gh1[:,kl]))\n",
    "    final_list_Gibbs.append(np.argmax(counts))"
   ]
  },
  {
   "cell_type": "code",
   "execution_count": 22,
   "metadata": {},
   "outputs": [
    {
     "data": {
      "image/png": "[encoded data removed]",
      "text/plain": [
       "<Figure size 432x288 with 1 Axes>"
      ]
     },
     "metadata": {},
     "output_type": "display_data"
    }
   ],
   "source": [
    "GMM_matrix1=np.reshape(final_list_Gibbs,(381,390))\n",
    "sns.set(style=\"white\", context=\"talk\")\n",
    "plt.imshow(GMM_matrix1,cmap='gray')\n",
    "plt.savefig('Gibbs.png')\n",
    "plt.show()"
   ]
  },
  {
   "cell_type": "code",
   "execution_count": null,
   "metadata": {},
   "outputs": [],
   "source": []
  }
 ],
 "metadata": {
  "kernelspec": {
   "display_name": "Python 3",
   "language": "python",
   "name": "python3"
  },
  "language_info": {
   "codemirror_mode": {
    "name": "ipython",
    "version": 3
   },
   "file_extension": ".py",
   "mimetype": "text/x-python",
   "name": "python",
   "nbconvert_exporter": "python",
   "pygments_lexer": "ipython3",
   "version": "3.7.4"
  }
 },
 "nbformat": 4,
 "nbformat_minor": 4
}
