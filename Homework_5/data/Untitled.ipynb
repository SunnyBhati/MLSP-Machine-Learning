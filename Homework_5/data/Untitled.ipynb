{
 "cells": [
  {
   "cell_type": "code",
   "execution_count": 1,
   "metadata": {},
   "outputs": [],
   "source": [
    "from scipy.io import wavfile\n",
    "import numpy as np\n",
    "import os\n",
    "import math\n",
    "from numpy import linalg\n",
    "import matplotlib.pyplot as plt\n",
    "import scipy.io\n",
    "import scipy.signal\n",
    "from scipy.stats import mode\n",
    "\n",
    "\n",
    "matdata = scipy.io.loadmat('twitter.mat')\n",
    "\n",
    "xtr = matdata['Xtr']\n",
    "xte = matdata['Xte']\n",
    "yte = matdata['YteMat']\n",
    "ytr = matdata['YtrMat']"
   ]
  },
  {
   "cell_type": "code",
   "execution_count": 2,
   "metadata": {},
   "outputs": [],
   "source": [
    "# Generate NMF model for Xtr\n",
    "\n",
    "B = np.random.normal(0, 0.1, (891, 50))\n",
    "B_one = np.ones((891, 891))\n",
    "B = B / np.dot(B_one, B)\n",
    "\n",
    "\n",
    "O = np.dot(B.T, xtr)\n",
    "O_one = np.ones((50, 50))\n",
    "O = O / np.dot(O_one, O)\n",
    "\n",
    "i = 0\n",
    "epsi = 0.001\n",
    "while (True):\n",
    "\n",
    "    t1 = xtr / (np.dot(B, O) + epsi)\n",
    "    t2 = np.dot(t1, O.T)\n",
    "    B = B * t2\n",
    "\n",
    "    B = B / np.dot(B_one, B)\n",
    "\n",
    "    t1 = xtr / (np.dot(B, O) + epsi)\n",
    "    t2 = np.dot(B.T, t1)\n",
    "    O = O * t2\n",
    "\n",
    "    O = O / np.dot(O_one, O)\n",
    "\n",
    "    Y = np.dot(B, O)\n",
    "    err = np.linalg.norm(xtr - Y)\n",
    "\n",
    "    i += 1\n",
    "    if i == 1000:  # Based on the change in the B_s after every iteration decided to break at 2000\n",
    "        break\n",
    "B_tr = B\n",
    "O_tr = O"
   ]
  },
  {
   "cell_type": "code",
   "execution_count": 3,
   "metadata": {},
   "outputs": [],
   "source": [
    "# Generate NMF model for Xte .. only updating O\n",
    "B = B_tr\n",
    "O = np.random.normal(0, 0.1, (50, 193))\n",
    "O_one = np.ones((50, 50))\n",
    "O = O / np.dot(O_one, O)\n",
    "\n",
    "i = 0\n",
    "epsi = 0.001\n",
    "while (True):\n",
    "\n",
    "    t1 = xte / (np.dot(B, O) + epsi)\n",
    "    t2 = np.dot(B.T, t1)\n",
    "    O = O * t2\n",
    "\n",
    "    O = O / np.dot(O_one, O)\n",
    "\n",
    "    Y = np.dot(B, O)\n",
    "    err = np.linalg.norm(xte - Y)\n",
    "\n",
    "    i += 1\n",
    "    if i == 1000:  # Based on the change in the W_s after every iteration decided to break at 1000\n",
    "        break\n",
    "O_te = O\n",
    "\n",
    "bias = np.ones((1,773))\n",
    "x1 = np.concatenate((O_tr,bias),axis=0)\n",
    "x1 = x1.T"
   ]
  },
  {
   "cell_type": "code",
   "execution_count": 4,
   "metadata": {},
   "outputs": [
    {
     "name": "stdout",
     "output_type": "stream",
     "text": [
      "Training Accuracy is: 0.6636481241914618\n"
     ]
    }
   ],
   "source": [
    "def softmax(z):\n",
    "    softmax_value =  (z / (np.sum(z,axis=1)[:,None] + 0.000001))\n",
    "    return softmax_value\n",
    "\n",
    "\n",
    "alpha = 0.001\n",
    "i = 0\n",
    "a1 = np.random.normal(0, 0.1, 51 * 3)\n",
    "a1 = a1.reshape((51, 3))\n",
    "err_list = []\n",
    "while (True):\n",
    "    i += 1\n",
    "    z1 = np.dot(x1, a1)\n",
    "    z1 = np.exp(z1)\n",
    "    y_cap = softmax(z1)\n",
    "\n",
    "    err = - (ytr.T * np.log(y_cap))\n",
    "    esum = np.sum(np.abs(err))\n",
    "\n",
    "    g1 = (y_cap - ytr.T)\n",
    "    a1 = a1 - (alpha * np.dot(x1.T, g1))\n",
    "    if (i == 50000):\n",
    "        break\n",
    "\n",
    "pred = np.argmax(y_cap,axis=1)\n",
    "actual = np.argmax(ytr.T,axis=1)\n",
    "correct = pred == actual\n",
    "bincnt = np.bincount(correct)\n",
    "acc = bincnt[1] / np.sum(bincnt)\n",
    "print(\"Training Accuracy is:\",acc)"
   ]
  },
  {
   "cell_type": "code",
   "execution_count": 5,
   "metadata": {},
   "outputs": [
    {
     "name": "stdout",
     "output_type": "stream",
     "text": [
      "Test Accuracy is: 0.5751295336787565\n"
     ]
    }
   ],
   "source": [
    "bias = np.ones((1,193))\n",
    "x1_test = np.concatenate((O_te,bias),axis=0)\n",
    "x1_test = x1_test.T\n",
    "\n",
    "z1 = np.dot(x1_test,a1)\n",
    "z1 = np.exp(z1)\n",
    "y_cap_test = softmax(z1)\n",
    "\n",
    "test_pred = np.argmax(y_cap_test,axis=1)\n",
    "test_actual = np.argmax(yte.T,axis=1)\n",
    "test_correct = test_pred == test_actual\n",
    "test_bincnt = np.bincount(test_correct)\n",
    "test_acc = test_bincnt[1] / np.sum(test_bincnt)\n",
    "print(\"Test Accuracy is:\",test_acc)"
   ]
  }
 ],
 "metadata": {
  "kernelspec": {
   "display_name": "Python 3",
   "language": "python",
   "name": "python3"
  },
  "language_info": {
   "codemirror_mode": {
    "name": "ipython",
    "version": 3
   },
   "file_extension": ".py",
   "mimetype": "text/x-python",
   "name": "python",
   "nbconvert_exporter": "python",
   "pygments_lexer": "ipython3",
   "version": "3.7.4"
  }
 },
 "nbformat": 4,
 "nbformat_minor": 4
}
