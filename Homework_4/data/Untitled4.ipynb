{
 "cells": [
  {
   "cell_type": "code",
   "execution_count": 1,
   "metadata": {},
   "outputs": [
    {
     "name": "stderr",
     "output_type": "stream",
     "text": [
      "/opt/anaconda3/lib/python3.7/site-packages/ipykernel_launcher.py:15: DeprecationWarning: Using or importing the ABCs from 'collections' instead of from 'collections.abc' is deprecated, and in 3.8 it will stop working\n",
      "  from ipykernel import kernelapp as app\n"
     ]
    }
   ],
   "source": [
    "import scipy.io\n",
    "import librosa\n",
    "from librosa import display\n",
    "from PIL import Image\n",
    "from matplotlib import pyplot\n",
    "from numpy import asarray\n",
    "import matplotlib.pyplot as plt\n",
    "import numpy as np\n",
    "import cmath\n",
    "import seaborn as sns\n",
    "import scipy\n",
    "import IPython.display as ipd\n",
    "import math\n",
    "from numpy.linalg import inv\n",
    "from collections import Iterable \n",
    "\n",
    "from tqdm import tqdm"
   ]
  },
  {
   "cell_type": "code",
   "execution_count": 2,
   "metadata": {},
   "outputs": [],
   "source": [
    "def sigmoid(x):\n",
    "    return(1/(1+np.exp(-x)))"
   ]
  },
  {
   "cell_type": "code",
   "execution_count": 3,
   "metadata": {},
   "outputs": [],
   "source": [
    "y_train=[0]*152\n",
    "for i in range(51,152):\n",
    "    y_train[i]=1"
   ]
  },
  {
   "cell_type": "code",
   "execution_count": 4,
   "metadata": {},
   "outputs": [],
   "source": [
    "concentric = scipy.io.loadmat('concentric.mat')\n",
    "concentric=concentric['X']\n",
    "bias=[1]*152\n",
    "concentric_withones=np.vstack([concentric,bias])"
   ]
  },
  {
   "cell_type": "code",
   "execution_count": 5,
   "metadata": {},
   "outputs": [],
   "source": [
    "w_layer_one=np.random.normal(0,1,9)\n",
    "w_layer_two=np.random.normal(0,1,4)"
   ]
  },
  {
   "cell_type": "code",
   "execution_count": 6,
   "metadata": {},
   "outputs": [
    {
     "name": "stdout",
     "output_type": "stream",
     "text": [
      "Initial weights and bias at layer 1: [[-2.78208136  0.43780377  0.63445986]\n",
      " [-1.02212059 -0.90909712 -0.14514055]\n",
      " [ 0.69686633  0.10354628 -2.00637544]]\n",
      "Initial weights and bias at layer 2: [[ 0.58530779  1.90002711 -0.1393268  -0.32572546]]\n"
     ]
    }
   ],
   "source": [
    "w_layer1=np.reshape(w_layer_one,(3,3))\n",
    "w_layer2=np.reshape(w_layer_two,(1,4))\n",
    "rho=0.05\n",
    "print(\"Initial weights and bias at layer 1:\", w_layer1)\n",
    "print(\"Initial weights and bias at layer 2:\", w_layer2)"
   ]
  },
  {
   "cell_type": "code",
   "execution_count": 7,
   "metadata": {},
   "outputs": [],
   "source": [
    "no_of_iterations=100000"
   ]
  },
  {
   "cell_type": "code",
   "execution_count": 8,
   "metadata": {},
   "outputs": [
    {
     "name": "stderr",
     "output_type": "stream",
     "text": [
      "  5%|▌         | 5479/100000 [00:01<00:20, 4519.34it/s]"
     ]
    },
    {
     "name": "stdout",
     "output_type": "stream",
     "text": [
      "Neural Network Converges at iteration number:  5515\n"
     ]
    },
    {
     "name": "stderr",
     "output_type": "stream",
     "text": [
      "\n"
     ]
    }
   ],
   "source": [
    "accuracylist=[]\n",
    "for iter in tqdm(range(100000)):\n",
    "    accuracy=0\n",
    "    a_tranpose_X_layer1=np.matmul(w_layer1,concentric_withones)\n",
    "    \n",
    "    input_X_layer2=np.array(np.vstack([sigmoid(a_tranpose_X_layer1),[1]*152]))\n",
    "    \n",
    "    outputlayer=np.matmul(w_layer2,input_X_layer2)\n",
    "    \n",
    "    final_output=sigmoid(outputlayer)\n",
    "    \n",
    "    y_new=np.reshape(y_train,(1,152))\n",
    "\n",
    "    err=(final_output-y_train)*(np.multiply(final_output,(1-final_output)))\n",
    "    \n",
    "    w_layer2=w_layer2-np.multiply(rho,np.matmul(err,input_X_layer2.T))\n",
    "\n",
    "    gradient_layer2=np.multiply(input_X_layer2[0:3,:],1-input_X_layer2[0:3,:])\n",
    "\n",
    "    \n",
    "    step4=np.matmul(w_layer2[:,0:3].T,err)\n",
    "   \n",
    "    step5=np.multiply(step4,gradient_layer2)\n",
    "  \n",
    "    w_layer1=w_layer1-np.multiply(rho,np.matmul(step5,concentric_withones.T))\n",
    "\n",
    "    step6=np.matmul(w_layer1,concentric_withones)\n",
    "    step7=np.vstack([sigmoid(step6),[1]*152])\n",
    "    step8=np.matmul(w_layer2,step7)\n",
    "    step9=sigmoid(step8).flatten()\n",
    "    y_test=[0]*152\n",
    "    for j in range(152):\n",
    "        if step9[j]<0.5:\n",
    "            y_test[j]=0\n",
    "        else:\n",
    "            y_test[j]=1\n",
    "    for l in range(152):\n",
    "        if y_test[l]==y_train[l]:\n",
    "            accuracy+=1\n",
    "    \n",
    "    acc=(accuracy/152)*100\n",
    "    accuracylist.append(100-acc)\n",
    "    \n",
    "    if acc==100:\n",
    "        print(\"Neural Network Converges at iteration number: \", iter)\n",
    "        break"
   ]
  },
  {
   "cell_type": "code",
   "execution_count": null,
   "metadata": {},
   "outputs": [],
   "source": []
  }
 ],
 "metadata": {
  "kernelspec": {
   "display_name": "Python 3",
   "language": "python",
   "name": "python3"
  },
  "language_info": {
   "codemirror_mode": {
    "name": "ipython",
    "version": 3
   },
   "file_extension": ".py",
   "mimetype": "text/x-python",
   "name": "python",
   "nbconvert_exporter": "python",
   "pygments_lexer": "ipython3",
   "version": "3.7.4"
  }
 },
 "nbformat": 4,
 "nbformat_minor": 4
}
