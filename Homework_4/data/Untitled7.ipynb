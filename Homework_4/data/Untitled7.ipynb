{
 "cells": [
  {
   "cell_type": "code",
   "execution_count": 1,
   "metadata": {},
   "outputs": [
    {
     "name": "stdout",
     "output_type": "stream",
     "text": [
      "There is a path from 1 to 3\n",
      "There is a path from 3 to 2\n",
      "defaultdict(<class 'list'>, {0: [1, 2], 1: [2], 2: [0, 3], 3: [2]})\n"
     ]
    }
   ],
   "source": [
    "from collections import defaultdict \n",
    "   \n",
    "#This class represents a directed graph using adjacency list representation \n",
    "class Graph: \n",
    "   \n",
    "    def __init__(self,vertices): \n",
    "        self.V= vertices #No. of vertices \n",
    "        self.graph = defaultdict(list) # default dictionary to store graph \n",
    "   \n",
    "    # function to add an edge to graph \n",
    "    def addEdge(self,u,v): \n",
    "        self.graph[u].append(v) \n",
    "       \n",
    "     # Use BFS to check path between s and d \n",
    "    def isReachable(self, s, d): \n",
    "        # Mark all the vertices as not visited \n",
    "        visited =[False]*(self.V) \n",
    "   \n",
    "        # Create a queue for BFS \n",
    "        queue=[] \n",
    "   \n",
    "        # Mark the source node as visited and enqueue it \n",
    "        queue.append(s) \n",
    "        visited[s] = True\n",
    "   \n",
    "        while queue: \n",
    "  \n",
    "            #Dequeue a vertex from queue  \n",
    "            n = queue.pop(0) \n",
    "              \n",
    "            # If this adjacent node is the destination node, \n",
    "            # then return true \n",
    "            if n == d: \n",
    "                 return True\n",
    "  \n",
    "            #  Else, continue to do BFS \n",
    "            for i in self.graph[n]: \n",
    "                if visited[i] == False: \n",
    "                    queue.append(i) \n",
    "                    visited[i] = True\n",
    "         # If BFS is complete without visited d \n",
    "        return False\n",
    "   \n",
    "# Create a graph given in the above diagram \n",
    "g = Graph(4) \n",
    "g.addEdge(0, 1) \n",
    "g.addEdge(0, 2) \n",
    "g.addEdge(1, 2) \n",
    "g.addEdge(2, 0) \n",
    "g.addEdge(2, 3) \n",
    "g.addEdge(3, 2)\n",
    "\n",
    "  \n",
    "u =1; v = 3\n",
    "  \n",
    "if g.isReachable(u, v): \n",
    "    print(\"There is a path from %d to %d\" % (u,v)) \n",
    "else : \n",
    "    print(\"There is no path from %d to %d\" % (u,v)) \n",
    "  \n",
    "u = 3; v = 2\n",
    "if g.isReachable(u, v) : \n",
    "    print(\"There is a path from %d to %d\" % (u,v)) \n",
    "else : \n",
    "    print(\"There is no path from %d to %d\" % (u,v)) \n",
    "print(g.graph)"
   ]
  }
 ],
 "metadata": {
  "kernelspec": {
   "display_name": "Python 3",
   "language": "python",
   "name": "python3"
  },
  "language_info": {
   "codemirror_mode": {
    "name": "ipython",
    "version": 3
   },
   "file_extension": ".py",
   "mimetype": "text/x-python",
   "name": "python",
   "nbconvert_exporter": "python",
   "pygments_lexer": "ipython3",
   "version": "3.7.4"
  }
 },
 "nbformat": 4,
 "nbformat_minor": 4
}
