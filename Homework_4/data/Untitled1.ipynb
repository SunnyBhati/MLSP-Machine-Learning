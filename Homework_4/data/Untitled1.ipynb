{
 "cells": [
  {
   "cell_type": "code",
   "execution_count": 1,
   "metadata": {},
   "outputs": [
    {
     "name": "stderr",
     "output_type": "stream",
     "text": [
      "/opt/anaconda3/lib/python3.7/site-packages/scipy/io/wavfile.py:273: WavFileWarning: Chunk (non-data) not understood, skipping it.\n",
      "  WavFileWarning)\n"
     ]
    }
   ],
   "source": [
    "from scipy.io import wavfile\n",
    "import scipy.io\n",
    "import numpy as np\n",
    "import os\n",
    "import math\n",
    "import matplotlib.pyplot as plt\n",
    "from scipy.stats import multivariate_normal\n",
    "from numpy.linalg import inv\n",
    "\n",
    "# Read all input files ....\n",
    "piano = wavfile.read('Piano_Clap.wav')\n",
    "piano_mat = piano[1]\n",
    "\n",
    "m = scipy.io.loadmat('mfcc.mat')\n",
    "mfcc = m['X']\n",
    "mu = scipy.io.loadmat('MuSigma.mat')"
   ]
  },
  {
   "cell_type": "code",
   "execution_count": 2,
   "metadata": {},
   "outputs": [],
   "source": [
    "means = mu['mX']\n",
    "cov = mu['Sigma']\n",
    "cov_piano = cov[:,:,0]\n",
    "cov_clap = cov[:,:,1]\n",
    "\n",
    "# Matrix preparation\n",
    "mean_piano = means[:,0]\n",
    "mean_piano = mean_piano.reshape((12,1))\n",
    "mean_clap = means[:,1]\n",
    "mean_clap = mean_clap.reshape((12,1))\n",
    "\n",
    "x_mean_pi = mfcc - mean_piano\n",
    "x_mean_clap = mfcc - mean_clap\n",
    "\n",
    "cov_piano_inv = inv(np.matrix(cov_piano))\n",
    "cov_clap_inv = inv(np.matrix(cov_clap))\n",
    "\n",
    "cov_piano_mod = math.sqrt(np.sqrt((cov_piano * cov_piano).sum()))\n",
    "cov_clap_mod = math.sqrt(np.sqrt((cov_clap * cov_clap).sum()))\n",
    "\n",
    "def gaussian(x_u,cov_mod,cov_inv):\n",
    "    n1 = 1 / (2 * 3.14 * cov_mod)\n",
    "    n2 = -np.exp(-0.5 * np.dot(np.dot(x_u.T, cov_inv),x_u))\n",
    "    return n1*n2"
   ]
  },
  {
   "cell_type": "code",
   "execution_count": 3,
   "metadata": {},
   "outputs": [],
   "source": [
    "piano_list = []\n",
    "clap_list = []\n",
    "for i in range(962):\n",
    "    pi = gaussian(x_mean_pi[:, i].reshape((12, 1)), cov_piano_mod, cov_piano_inv)\n",
    "    piano_list.append(pi[0, 0])\n",
    "\n",
    "    cl = gaussian(x_mean_clap[:, i].reshape((12, 1)), cov_clap_mod, cov_clap_inv)\n",
    "    clap_list.append(cl[0, 0])\n",
    "\n",
    "p = np.array([piano_list,clap_list])\n",
    "p_sum = np.sum(p,axis=0).reshape((1,962))\n",
    "p_tilda = p / p_sum"
   ]
  },
  {
   "cell_type": "code",
   "execution_count": 4,
   "metadata": {},
   "outputs": [
    {
     "data": {
      "image/png": "[encoded data removed]",
      "text/plain": [
       "<Figure size 1152x144 with 1 Axes>"
      ]
     },
     "metadata": {
      "needs_background": "light"
     },
     "output_type": "display_data"
    }
   ],
   "source": [
    "plt.matshow(p_tilda,aspect='auto',cmap=\"gray\")\n",
    "plt.show()"
   ]
  },
  {
   "cell_type": "code",
   "execution_count": 5,
   "metadata": {},
   "outputs": [
    {
     "data": {
      "image/png": "[encoded data removed]",
      "text/plain": [
       "<Figure size 1152x144 with 1 Axes>"
      ]
     },
     "metadata": {
      "needs_background": "light"
     },
     "output_type": "display_data"
    }
   ],
   "source": [
    "t = np.array([[0.9,0.1],[0,1]])\n",
    "p_bar = np.zeros((2,962))\n",
    "p_bar[:,0] = p_tilda[:,0]\n",
    "\n",
    "for i in range(0,961):\n",
    "    b = np.argmax(p_tilda[:,i])\n",
    "    p_bar[:,i+1] = t[b,:] * p_tilda[:,i+1]\n",
    "\n",
    "p_bar_sum = np.sum(p_bar,axis=0).reshape((1,962))\n",
    "p_bar = p_bar/p_bar_sum\n",
    "\n",
    "plt.matshow(p_bar,aspect='auto',cmap=\"gray\")\n",
    "plt.show()\n",
    "\n",
    "B = np.zeros((2, 962))\n",
    "p_bar2 = np.zeros((2, 962))\n",
    "p_bar2[:, 0] = p_tilda[:, 0]"
   ]
  },
  {
   "cell_type": "code",
   "execution_count": 6,
   "metadata": {},
   "outputs": [
    {
     "data": {
      "image/png": "[encoded data removed]",
      "text/plain": [
       "<Figure size 1152x144 with 1 Axes>"
      ]
     },
     "metadata": {
      "needs_background": "light"
     },
     "output_type": "display_data"
    }
   ],
   "source": [
    "for i in range(961):\n",
    "    b1 = np.argmax(np.multiply(t[:, 0], p_bar2[:, i]))\n",
    "    B[0, i + 1] = b1\n",
    "    p_bar2[0, i + 1] = np.dot(np.dot(t[b1, 0], p_bar2[b1, i]), p[0, i + 1])\n",
    "\n",
    "    b2 = np.argmax(np.multiply(t[:, 1], p_bar2[:, i]))\n",
    "    B[1, i + 1] = b2\n",
    "    p_bar2[1, i + 1] = np.dot(np.dot(t[b2, 1], p_bar2[b2, i]), p[1, i + 1])\n",
    "    p_bar2[:, i + 1] = p_bar2[:, i + 1] / np.sum(p_bar2[:, i + 1])\n",
    "\n",
    "plt.matshow(p_bar2, aspect='auto', cmap=\"gray\")\n",
    "plt.show()"
   ]
  },
  {
   "cell_type": "code",
   "execution_count": 7,
   "metadata": {},
   "outputs": [
    {
     "data": {
      "image/png": "[encoded data removed]",
      "text/plain": [
       "<Figure size 1152x144 with 1 Axes>"
      ]
     },
     "metadata": {
      "needs_background": "light"
     },
     "output_type": "display_data"
    }
   ],
   "source": [
    "plt.matshow(B, aspect='auto', cmap=\"gray\")\n",
    "plt.show()"
   ]
  },
  {
   "cell_type": "code",
   "execution_count": 8,
   "metadata": {},
   "outputs": [],
   "source": [
    "states = []\n",
    "m = np.argmax(p_bar2[:,961])\n",
    "item = int(B[m,961])\n",
    "states.append(B[m,961])\n",
    "for i in reversed(range(961)):\n",
    "    states.append(B[item,i])\n",
    "    item = int(B[item,i])"
   ]
  },
  {
   "cell_type": "code",
   "execution_count": 9,
   "metadata": {},
   "outputs": [
    {
     "data": {
      "image/png": "[encoded data removed]",
      "text/plain": [
       "<Figure size 432x288 with 1 Axes>"
      ]
     },
     "metadata": {
      "needs_background": "light"
     },
     "output_type": "display_data"
    }
   ],
   "source": [
    "plt.plot(states[::-1])\n",
    "plt.show()"
   ]
  }
 ],
 "metadata": {
  "kernelspec": {
   "display_name": "Python 3",
   "language": "python",
   "name": "python3"
  },
  "language_info": {
   "codemirror_mode": {
    "name": "ipython",
    "version": 3
   },
   "file_extension": ".py",
   "mimetype": "text/x-python",
   "name": "python",
   "nbconvert_exporter": "python",
   "pygments_lexer": "ipython3",
   "version": "3.7.4"
  }
 },
 "nbformat": 4,
 "nbformat_minor": 4
}
