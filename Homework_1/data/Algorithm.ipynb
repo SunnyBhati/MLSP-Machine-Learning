{
 "cells": [
  {
   "cell_type": "markdown",
   "metadata": {},
   "source": [
    "## Code for insertion sort"
   ]
  },
  {
   "cell_type": "code",
   "execution_count": 92,
   "metadata": {},
   "outputs": [],
   "source": [
    "import sys\n",
    "import numpy\n",
    "def insertion_sort(arr):\n",
    "    for j in range(1,len(arr)):\n",
    "        value=arr[j]\n",
    "        i=j-1\n",
    "        while i >=0 and arr[i]>value:\n",
    "            arr[i+1]=arr[i]\n",
    "            i=i-1\n",
    "        arr[i+1]=value\n",
    "    return arr"
   ]
  },
  {
   "cell_type": "markdown",
   "metadata": {},
   "source": [
    "## Code for bubble sort"
   ]
  },
  {
   "cell_type": "code",
   "execution_count": 93,
   "metadata": {},
   "outputs": [],
   "source": [
    "def bubble_sort(arr):\n",
    "    for i in range(len(arr)):\n",
    "        n=0\n",
    "        for k in range( len(arr) - 1, i, -1 ):\n",
    "            if ( arr[k] < arr[k - 1] ):\n",
    "                temp = arr[k]\n",
    "                arr[k] = arr[k-1]\n",
    "                arr[k-1]= temp\n",
    "                n=n+1\n",
    "        if n == 0:\n",
    "            break\n",
    "    return arr"
   ]
  },
  {
   "cell_type": "code",
   "execution_count": 94,
   "metadata": {},
   "outputs": [
    {
     "name": "stdout",
     "output_type": "stream",
     "text": [
      "[ 5000 10000 15000 20000 25000 30000]\n"
     ]
    }
   ],
   "source": [
    "import numpy as np\n",
    "input_range=np.arange(5000,35000,5000)\n",
    "print(input_range)"
   ]
  },
  {
   "cell_type": "markdown",
   "metadata": {},
   "source": [
    "## Plot_1 for Large Random Inputs"
   ]
  },
  {
   "cell_type": "code",
   "execution_count": 95,
   "metadata": {},
   "outputs": [
    {
     "name": "stderr",
     "output_type": "stream",
     "text": [
      "/opt/anaconda3/lib/python3.7/site-packages/ipykernel_launcher.py:16: DeprecationWarning: time.clock has been deprecated in Python 3.3 and will be removed from Python 3.8: use time.perf_counter or time.process_time instead\n",
      "  app.launch_new_instance()\n",
      "/opt/anaconda3/lib/python3.7/site-packages/ipykernel_launcher.py:18: DeprecationWarning: time.clock has been deprecated in Python 3.3 and will be removed from Python 3.8: use time.perf_counter or time.process_time instead\n",
      "/opt/anaconda3/lib/python3.7/site-packages/ipykernel_launcher.py:19: DeprecationWarning: time.clock has been deprecated in Python 3.3 and will be removed from Python 3.8: use time.perf_counter or time.process_time instead\n",
      "/opt/anaconda3/lib/python3.7/site-packages/ipykernel_launcher.py:21: DeprecationWarning: time.clock has been deprecated in Python 3.3 and will be removed from Python 3.8: use time.perf_counter or time.process_time instead\n"
     ]
    },
    {
     "name": "stdout",
     "output_type": "stream",
     "text": [
      "[0.9717546666664324, 3.9285086666668576, 9.002719666666659, 16.055387333333176, 24.258475333333383, 36.32169033333321]\n",
      "[2.4025673333335362, 9.973791333333489, 22.00161666666645, 38.40270599999955, 60.31292066666689, 90.71737900000001]\n"
     ]
    }
   ],
   "source": [
    "import random\n",
    "import time\n",
    "from time import clock\n",
    "import numpy\n",
    "import statistics\n",
    "time_plot1_insertion=[]\n",
    "time_plot1_bubble=[]\n",
    "for k in range(len(input_range)):\n",
    "   # arr1=random.sample(range(0,input_range[k]), input_range[k])\n",
    "    #arr2=random.sample(range(0,input_range[k]), input_range[k])\n",
    "    time_plot_insertion=[]\n",
    "    time_plot_bubble=[]\n",
    "    for j in range(0,3):\n",
    "        arr1=random.sample(range(0,input_range[k]), input_range[k])\n",
    "        arr24=random.sample(range(0,input_range[k]), input_range[k])\n",
    "        start=clock()\n",
    "        arr2=insertion_sort(arr1)\n",
    "        end=clock()\n",
    "        start1=clock()\n",
    "        arr3=bubble_sort(arr24)\n",
    "        end1=clock()\n",
    "        time_plot_insertion.append(end-start)\n",
    "        time_plot_bubble.append(end1-start1)\n",
    "    time_plot1_insertion.append(numpy.mean(time_plot_insertion))\n",
    "    time_plot1_bubble.append(numpy.mean(time_plot_bubble))\n",
    "print(time_plot1_insertion)\n",
    "print(time_plot1_bubble)"
   ]
  },
  {
   "cell_type": "code",
   "execution_count": 96,
   "metadata": {},
   "outputs": [
    {
     "data": {
      "image/png": "[encoded data removed]",
      "text/plain": [
       "<Figure size 432x288 with 1 Axes>"
      ]
     },
     "metadata": {
      "needs_background": "light"
     },
     "output_type": "display_data"
    }
   ],
   "source": [
    "import matplotlib.pyplot as plt\n",
    "plt.plot(input_range,time_plot1_insertion, color = \"red\",label='insertion_sort')\n",
    "plt.plot(input_range,time_plot1_bubble, color=\"blue\",label='bubble_sort')\n",
    "plt.xlabel(\"Input size\")\n",
    "plt.ylabel(\"Time in seconds\")\n",
    "plt.suptitle(\"Plot-1 for Large random inputs\")\n",
    "plt.legend()\n",
    "plt.show()"
   ]
  },
  {
   "cell_type": "markdown",
   "metadata": {},
   "source": [
    "## Plot- 2 for Non-decreasing inputs"
   ]
  },
  {
   "cell_type": "code",
   "execution_count": 97,
   "metadata": {},
   "outputs": [
    {
     "name": "stderr",
     "output_type": "stream",
     "text": [
      "/opt/anaconda3/lib/python3.7/site-packages/ipykernel_launcher.py:16: DeprecationWarning: time.clock has been deprecated in Python 3.3 and will be removed from Python 3.8: use time.perf_counter or time.process_time instead\n",
      "  app.launch_new_instance()\n",
      "/opt/anaconda3/lib/python3.7/site-packages/ipykernel_launcher.py:18: DeprecationWarning: time.clock has been deprecated in Python 3.3 and will be removed from Python 3.8: use time.perf_counter or time.process_time instead\n",
      "/opt/anaconda3/lib/python3.7/site-packages/ipykernel_launcher.py:19: DeprecationWarning: time.clock has been deprecated in Python 3.3 and will be removed from Python 3.8: use time.perf_counter or time.process_time instead\n",
      "/opt/anaconda3/lib/python3.7/site-packages/ipykernel_launcher.py:21: DeprecationWarning: time.clock has been deprecated in Python 3.3 and will be removed from Python 3.8: use time.perf_counter or time.process_time instead\n"
     ]
    },
    {
     "name": "stdout",
     "output_type": "stream",
     "text": [
      "[0.0021613333334850418, 0.0022393333335154844, 0.003568666666675805, 0.004115333333174931, 0.005085333333530191, 0.005927999999585154]\n",
      "[0.0012353333331702743, 0.001323999999537288, 0.001860333333146021, 0.0021486666664713994, 0.002690666666846179, 0.003293666666953262]\n"
     ]
    }
   ],
   "source": [
    "import random\n",
    "import time\n",
    "from time import clock\n",
    "import numpy\n",
    "import statistics\n",
    "time_plot2_insertion=[]\n",
    "time_plot2_bubble=[]\n",
    "for k in range(len(input_range)):\n",
    "   # arr1=random.sample(range(0,input_range[k]), input_range[k])\n",
    "    #arr2=random.sample(range(0,input_range[k]), input_range[k])\n",
    "    time_plot_insertion2=[]\n",
    "    time_plot_bubble2=[]\n",
    "    for j in range(0,3):\n",
    "        arr1=sorted(random.sample(range(0,input_range[k]), input_range[k]))\n",
    "        arr24=sorted(random.sample(range(0,input_range[k]), input_range[k]))\n",
    "        start=clock()\n",
    "        arr2=insertion_sort(arr1)\n",
    "        end=clock()\n",
    "        start1=clock()\n",
    "        arr3=bubble_sort(arr24)\n",
    "        end1=clock()\n",
    "        time_plot_insertion2.append(end-start)\n",
    "        time_plot_bubble2.append(end1-start1)\n",
    "    time_plot2_insertion.append(numpy.mean(time_plot_insertion2))\n",
    "    time_plot2_bubble.append(numpy.mean(time_plot_bubble2))\n",
    "print(time_plot2_insertion)\n",
    "print(time_plot2_bubble)"
   ]
  },
  {
   "cell_type": "code",
   "execution_count": 98,
   "metadata": {},
   "outputs": [
    {
     "data": {
      "image/png": "[encoded data removed]",
      "text/plain": [
       "<Figure size 432x288 with 1 Axes>"
      ]
     },
     "metadata": {
      "needs_background": "light"
     },
     "output_type": "display_data"
    }
   ],
   "source": [
    "import matplotlib.pyplot as plt\n",
    "plt.plot(input_range,time_plot2_insertion, color = \"red\",label='insertion_sort')\n",
    "plt.plot(input_range,time_plot2_bubble, color=\"blue\",label='bubble_sort')\n",
    "plt.xlabel(\"Input size\")\n",
    "plt.ylabel(\"Time in seconds\")\n",
    "plt.suptitle(\"Plot-2 for non-decreasing inputs\")\n",
    "plt.legend()\n",
    "plt.show()"
   ]
  },
  {
   "cell_type": "markdown",
   "metadata": {},
   "source": [
    "## Plot-3 for Non-Increasing Inputs"
   ]
  },
  {
   "cell_type": "code",
   "execution_count": 113,
   "metadata": {},
   "outputs": [
    {
     "name": "stderr",
     "output_type": "stream",
     "text": [
      "/opt/anaconda3/lib/python3.7/site-packages/ipykernel_launcher.py:18: DeprecationWarning: time.clock has been deprecated in Python 3.3 and will be removed from Python 3.8: use time.perf_counter or time.process_time instead\n",
      "/opt/anaconda3/lib/python3.7/site-packages/ipykernel_launcher.py:20: DeprecationWarning: time.clock has been deprecated in Python 3.3 and will be removed from Python 3.8: use time.perf_counter or time.process_time instead\n",
      "/opt/anaconda3/lib/python3.7/site-packages/ipykernel_launcher.py:21: DeprecationWarning: time.clock has been deprecated in Python 3.3 and will be removed from Python 3.8: use time.perf_counter or time.process_time instead\n",
      "/opt/anaconda3/lib/python3.7/site-packages/ipykernel_launcher.py:23: DeprecationWarning: time.clock has been deprecated in Python 3.3 and will be removed from Python 3.8: use time.perf_counter or time.process_time instead\n"
     ]
    },
    {
     "name": "stdout",
     "output_type": "stream",
     "text": [
      "[1.8993696666669468, 7.751309999999951, 18.387201000000157, 31.322474333333048, 48.29120899999998, 70.27492266666711]\n",
      "[3.4625910000001263, 14.17847333333369, 30.03075600000011, 55.76213266666673, 84.34733600000011, 121.48811966666683]\n"
     ]
    }
   ],
   "source": [
    "import random\n",
    "import time\n",
    "from time import clock\n",
    "import numpy\n",
    "import statistics\n",
    "\n",
    "time_plot3_insertion3=[]\n",
    "time_plot3_bubble3=[]\n",
    "\n",
    "for k in range(len(input_range)):\n",
    "    time_plot_insertion3=[]\n",
    "    time_plot_bubble3=[]\n",
    "    for j in range(0,3):\n",
    "        arr1=sorted(random.sample(range(0,input_range[k]), input_range[k]))\n",
    "        arr11=arr1[::-1]\n",
    "        arr24=sorted(random.sample(range(0,input_range[k]), input_range[k]))\n",
    "        arr241=arr24[::-1]\n",
    "        start=clock()\n",
    "        arr2=insertion_sort(arr11)\n",
    "        end=clock()\n",
    "        start1=clock()\n",
    "        arr3=bubble_sort(arr241)\n",
    "        end1=clock()\n",
    "        time_plot_insertion3.append(end-start)\n",
    "        time_plot_bubble3.append(end1-start1)\n",
    "    time_plot3_insertion.append(numpy.mean(time_plot_insertion3))\n",
    "    time_plot3_bubble.append(numpy.mean(time_plot_bubble3))\n",
    "print(time_plot3_insertion)\n",
    "print(time_plot3_bubble)"
   ]
  },
  {
   "cell_type": "code",
   "execution_count": 115,
   "metadata": {},
   "outputs": [
    {
     "data": {
      "image/png": "[encoded data removed]",
      "text/plain": [
       "<Figure size 432x288 with 1 Axes>"
      ]
     },
     "metadata": {
      "needs_background": "light"
     },
     "output_type": "display_data"
    }
   ],
   "source": [
    "import matplotlib.pyplot as plt\n",
    "plt.plot(input_range,time_plot3_insertion, color = \"red\",label='insertion_sort')\n",
    "plt.plot(input_range,time_plot3_bubble, color=\"blue\",label='bubble_sort')\n",
    "plt.xlabel(\"Input size\")\n",
    "plt.ylabel(\"Time in seconds\")\n",
    "plt.suptitle(\"Plot-3 for non-increasing inputs\")\n",
    "plt.legend()\n",
    "plt.show()"
   ]
  },
  {
   "cell_type": "markdown",
   "metadata": {},
   "source": [
    "## Plot-4 for Noisy Non-Decreasing Inputs"
   ]
  },
  {
   "cell_type": "code",
   "execution_count": 125,
   "metadata": {},
   "outputs": [
    {
     "name": "stderr",
     "output_type": "stream",
     "text": [
      "/opt/anaconda3/lib/python3.7/site-packages/ipykernel_launcher.py:14: DeprecationWarning: time.clock has been deprecated in Python 3.3 and will be removed from Python 3.8: use time.perf_counter or time.process_time instead\n",
      "  \n",
      "/opt/anaconda3/lib/python3.7/site-packages/ipykernel_launcher.py:16: DeprecationWarning: time.clock has been deprecated in Python 3.3 and will be removed from Python 3.8: use time.perf_counter or time.process_time instead\n",
      "  app.launch_new_instance()\n",
      "/opt/anaconda3/lib/python3.7/site-packages/ipykernel_launcher.py:17: DeprecationWarning: time.clock has been deprecated in Python 3.3 and will be removed from Python 3.8: use time.perf_counter or time.process_time instead\n",
      "/opt/anaconda3/lib/python3.7/site-packages/ipykernel_launcher.py:19: DeprecationWarning: time.clock has been deprecated in Python 3.3 and will be removed from Python 3.8: use time.perf_counter or time.process_time instead\n"
     ]
    },
    {
     "name": "stdout",
     "output_type": "stream",
     "text": [
      "[0.032894333333388204, 0.05201633333369197, 0.07904866666649468, 0.10456166666760207, 0.11902299999989434, 0.15157699999993687]\n",
      "[1.2900680000002467, 4.873831333333631, 11.160112666666464, 19.913657666667252, 30.26962399999987, 44.31042933333265]\n"
     ]
    }
   ],
   "source": [
    "time_plot4_insertion4=[]\n",
    "time_plot4_bubble4=[]\n",
    "for k in range(len(input_range)):\n",
    "    time_plot_insertion4=[]\n",
    "    time_plot_bubble4=[]\n",
    "    for i in range(0,3):\n",
    "        arr1=sorted(random.sample(range(0,input_range[k]), input_range[k]))\n",
    "        arr2=sorted(random.sample(range(0,input_range[k]), input_range[k]))\n",
    "        index_positions1=random.sample(range(0,input_range[k]),100)\n",
    "        index_positions2=random.sample(range(0,input_range[k]),100)\n",
    "        for l in range(50):\n",
    "            arr1[index_positions1[l]],arr1[index_positions1[100-l-1]]=arr1[index_positions1[100-l-1]],arr1[index_positions1[l]]\n",
    "            arr2[index_positions2[l]],arr2[index_positions2[100-l-1]]=arr2[index_positions2[100-l-1]],arr2[index_positions2[l]]\n",
    "        start=clock()\n",
    "        arr_insertion=insertion_sort(arr1)\n",
    "        end=clock()\n",
    "        start1=clock()\n",
    "        arr_bubble=bubble_sort(arr2)\n",
    "        end1=clock()\n",
    "        time_plot_insertion4.append(end-start)\n",
    "        time_plot_bubble4.append(end1-start1)\n",
    "    time_plot4_insertion4.append(numpy.mean(time_plot_insertion4))\n",
    "    time_plot4_bubble4.append(numpy.mean(time_plot_bubble4))\n",
    "    \n",
    "print(time_plot4_insertion4)\n",
    "print(time_plot4_bubble4)"
   ]
  },
  {
   "cell_type": "code",
   "execution_count": 126,
   "metadata": {},
   "outputs": [
    {
     "data": {
      "image/png": "[encoded data removed]",
      "text/plain": [
       "<Figure size 432x288 with 1 Axes>"
      ]
     },
     "metadata": {
      "needs_background": "light"
     },
     "output_type": "display_data"
    }
   ],
   "source": [
    "import matplotlib.pyplot as plt\n",
    "plt.plot(input_range,time_plot4_insertion4, color = \"red\",label='insertion_sort')\n",
    "plt.plot(input_range,time_plot4_bubble4, color=\"blue\",label='bubble_sort')\n",
    "plt.xlabel(\"Input size\")\n",
    "plt.ylabel(\"Time in seconds\")\n",
    "plt.suptitle(\"Plot-4 for Noisy non-decreasing inputs\")\n",
    "plt.legend()\n",
    "plt.show()"
   ]
  },
  {
   "cell_type": "markdown",
   "metadata": {},
   "source": [
    "## Plot-5 for Small random inputs"
   ]
  },
  {
   "cell_type": "code",
   "execution_count": 103,
   "metadata": {},
   "outputs": [
    {
     "name": "stderr",
     "output_type": "stream",
     "text": [
      "/opt/anaconda3/lib/python3.7/site-packages/ipykernel_launcher.py:5: DeprecationWarning: time.clock has been deprecated in Python 3.3 and will be removed from Python 3.8: use time.perf_counter or time.process_time instead\n",
      "  \"\"\"\n",
      "/opt/anaconda3/lib/python3.7/site-packages/ipykernel_launcher.py:7: DeprecationWarning: time.clock has been deprecated in Python 3.3 and will be removed from Python 3.8: use time.perf_counter or time.process_time instead\n",
      "  import sys\n"
     ]
    },
    {
     "name": "stdout",
     "output_type": "stream",
     "text": [
      "The time taken by insertion algorithm: 9.029830000016773\n"
     ]
    },
    {
     "name": "stderr",
     "output_type": "stream",
     "text": [
      "/opt/anaconda3/lib/python3.7/site-packages/ipykernel_launcher.py:14: DeprecationWarning: time.clock has been deprecated in Python 3.3 and will be removed from Python 3.8: use time.perf_counter or time.process_time instead\n",
      "  \n",
      "/opt/anaconda3/lib/python3.7/site-packages/ipykernel_launcher.py:16: DeprecationWarning: time.clock has been deprecated in Python 3.3 and will be removed from Python 3.8: use time.perf_counter or time.process_time instead\n",
      "  app.launch_new_instance()\n"
     ]
    },
    {
     "name": "stdout",
     "output_type": "stream",
     "text": [
      "The time taken by bubble sort algorithm: 19.71850000005543\n"
     ]
    }
   ],
   "source": [
    "insertion_time1=0\n",
    "bubble_time1=0\n",
    "for i in range(0,100000):\n",
    "    input_array= random.sample(range(0,50), 50)\n",
    "    start=clock()\n",
    "    arr267=insertion_sort(input_array)\n",
    "    end=clock()\n",
    "    insertion_time=end-start\n",
    "    insertion_time1+=insertion_time\n",
    "print(\"The time taken by insertion algorithm:\",insertion_time1)\n",
    "\n",
    "for i in range(0,100000):\n",
    "    input_array1= random.sample(range(0,50), 50)\n",
    "    start1=clock()\n",
    "    arr268=bubble_sort(input_array1)\n",
    "    end1=clock()\n",
    "    bubble_time=end1-start1\n",
    "    bubble_time1+=bubble_time\n",
    "print(\"The time taken by bubble sort algorithm:\",bubble_time1)"
   ]
  },
  {
   "cell_type": "markdown",
   "metadata": {},
   "source": [
    "#### Conclusions:"
   ]
  },
  {
   "cell_type": "markdown",
   "metadata": {},
   "source": [
    "## a) Does the first plot reflect this? How do the two algorithms compare in terms of the running time?"
   ]
  },
  {
   "cell_type": "markdown",
   "metadata": {},
   "source": [
    "Answer: The first plot reflects the quadratic running time (O(n^2))of the algorithm. For larger random inputs, insertion sort works better than bubble sort as n increases. In bubble sort, the number of swaps will be comparartively more compared to insertion sort. Therefore, in terms of running time insertion algorithm works better than bubble sort as n increases."
   ]
  },
  {
   "cell_type": "markdown",
   "metadata": {},
   "source": [
    "## b) How about the second plot? Do you think this one is quadratic? Why do you think it looks the way it does?"
   ]
  },
  {
   "cell_type": "markdown",
   "metadata": {},
   "source": [
    "Answer: No, the second plot is not quadratic. The complexity of algorithm reduces to O(N) for both bubble sort and insertion sort. However, the insertion sort takes more time than the bubble sort algorithm because the number of comparisons is more in case of insertion sort compared to bubble sort since the bubble sort will break out of the loop if the number of swaps is zero which implies the list is already sorted."
   ]
  },
  {
   "cell_type": "markdown",
   "metadata": {},
   "source": [
    "## c) How does the third plot compare to the first and second?\n"
   ]
  },
  {
   "cell_type": "markdown",
   "metadata": {},
   "source": [
    "Answer: The third plot with non-increasing inputs is the worst case for both the algorithms. The time complexity for both the algorithms is (O(n^2))and has swaps of the order of( O(n^2)).In the third plot, the time required for each input size is high compared to the time required for the same input in plot 1 and plot 2. In plot 3 it is to be observed that the bubble sort takes more time compared to insertion algorithm because of the more number of swapping operations involved"
   ]
  },
  {
   "cell_type": "markdown",
   "metadata": {},
   "source": [
    "## d) What about the fourth plot? Can you explain the behavior?"
   ]
  },
  {
   "cell_type": "markdown",
   "metadata": {},
   "source": [
    "Answer: For noisy non-decreasing inputs, it is noted that the bubble sort takes more time compared to the insertion sort algorithm. The typical behaviour can be attributed to the less number of swap operations in the case of bubble sort compared to the insertion sort algorithm."
   ]
  },
  {
   "cell_type": "markdown",
   "metadata": {},
   "source": [
    "## e) What about the fifth input? Note that the total input size is greater than all other inputs combined; why the algorithms can handle it efficiently?"
   ]
  },
  {
   "cell_type": "markdown",
   "metadata": {},
   "source": [
    "Answer: The algorithms works effciently for low number of inputs. Since the algorithm complexity is (O(n^2)), therefore the algorithm works effeciently while the inputs are less. Even though the number of arrays are high, the algorithm works effciently due to the low number of n."
   ]
  },
  {
   "cell_type": "markdown",
   "metadata": {},
   "source": [
    "## f) Summarize in which situations these algorithms can be used in practice. Which one would you prefer?"
   ]
  },
  {
   "cell_type": "markdown",
   "metadata": {},
   "source": [
    "Answer: Insertion algorithm works better than bubble sort algorithm on average as the input size increases due to the less number of swaps required to achieve the sorted array though the complexity is of the O(N^2). However, in the best case scenario where the input is arranged in the non-decreasing manner, both the algorithms works better because the time complexity reduces to O(N), but bubble sort works faster in comparison to insertion sort due to the added constraint that the loop be broken if there are no swaps implying the list is sorted.\n",
    "Both the algorithm would work well in general if the size of the list n is small even though the number of lists be large as shown in the plot-5, where we observe that though the number of arrays are huge with a relatively small n = 50, the time taken by both the algorithms is relatively less. \n",
    "\n",
    "In general i would prefer insertion sorting as on average it requires lesser time as compared to the bubble sort as observed in plot-1 due to the less number of swapping operations."
   ]
  },
  {
   "cell_type": "code",
   "execution_count": null,
   "metadata": {},
   "outputs": [],
   "source": []
  }
 ],
 "metadata": {
  "kernelspec": {
   "display_name": "Python 3",
   "language": "python",
   "name": "python3"
  },
  "language_info": {
   "codemirror_mode": {
    "name": "ipython",
    "version": 3
   },
   "file_extension": ".py",
   "mimetype": "text/x-python",
   "name": "python",
   "nbconvert_exporter": "python",
   "pygments_lexer": "ipython3",
   "version": "3.7.4"
  }
 },
 "nbformat": 4,
 "nbformat_minor": 4
}
