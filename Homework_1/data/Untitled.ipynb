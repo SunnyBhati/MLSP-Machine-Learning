{
 "cells": [
  {
   "cell_type": "code",
   "execution_count": 49,
   "metadata": {},
   "outputs": [],
   "source": [
    "from math import ceil\n",
    "def merge(all_lst):\n",
    "    sorted_lst = []\n",
    "    while all_lst:\n",
    "        min_value,index = all_lst[0][0],0\n",
    "        for lst in all_lst:\n",
    "            if lst[0]<min_value:\n",
    "                min_value = lst[0]\n",
    "                index = all_lst.index(lst)\n",
    "        sorted_lst.append(min_value)\n",
    "        all_lst[index].pop(0)\n",
    "        if not all_lst[index]:\n",
    "            all_lst.remove(all_lst[index])     \n",
    "    return sorted_lst\n",
    "\n",
    "def merge_sort(lst, k):\n",
    "    if len(lst) == 1:\n",
    "        return lst\n",
    "\n",
    "    j = ceil(len(lst)/k)\n",
    "\n",
    "\n",
    "    #split and recursively sort in one step\n",
    "    lst = [merge_sort(lst[i:i+j], k) for i in range(0, len(lst), j)]\n",
    "  \n",
    "\n",
    "    return merge(lst) "
   ]
  },
  {
   "cell_type": "code",
   "execution_count": 52,
   "metadata": {},
   "outputs": [
    {
     "name": "stderr",
     "output_type": "stream",
     "text": [
      "/opt/anaconda3/lib/python3.7/site-packages/ipykernel_launcher.py:5: DeprecationWarning: time.clock has been deprecated in Python 3.3 and will be removed from Python 3.8: use time.perf_counter or time.process_time instead\n",
      "  \"\"\"\n",
      "/opt/anaconda3/lib/python3.7/site-packages/ipykernel_launcher.py:7: DeprecationWarning: time.clock has been deprecated in Python 3.3 and will be removed from Python 3.8: use time.perf_counter or time.process_time instead\n",
      "  import sys\n",
      "/opt/anaconda3/lib/python3.7/site-packages/ipykernel_launcher.py:11: DeprecationWarning: time.clock has been deprecated in Python 3.3 and will be removed from Python 3.8: use time.perf_counter or time.process_time instead\n",
      "  # This is added back by InteractiveShellApp.init_path()\n"
     ]
    },
    {
     "name": "stdout",
     "output_type": "stream",
     "text": [
      "1.6987960000000015\n",
      "1.0950309999999988\n"
     ]
    },
    {
     "name": "stderr",
     "output_type": "stream",
     "text": [
      "/opt/anaconda3/lib/python3.7/site-packages/ipykernel_launcher.py:13: DeprecationWarning: time.clock has been deprecated in Python 3.3 and will be removed from Python 3.8: use time.perf_counter or time.process_time instead\n",
      "  del sys.path[0]\n"
     ]
    },
    {
     "data": {
      "text/plain": [
       "[1, 2, 4, 6, 78, 92]"
      ]
     },
     "execution_count": 52,
     "metadata": {},
     "output_type": "execute_result"
    }
   ],
   "source": [
    "import random\n",
    "import time\n",
    "from time import clock\n",
    "gh=random.sample(range(0,100000), 100000)\n",
    "start=clock()\n",
    "f= merge_sort(gh,2)# for 2 segments\n",
    "end=clock()\n",
    "d=end-start\n",
    "print(d)\n",
    "gh1=random.sample(range(0,100000), 100000)\n",
    "start1=clock()\n",
    "f_1=merge_sort(gh,3)# for 3 segments\n",
    "end1=clock()\n",
    "d2=end1-start1\n",
    "print(d2)\n",
    "\n",
    "ghj=[1,78,92,2,4,6]\n",
    "merge_sort(ghj,3)"
   ]
  },
  {
   "cell_type": "code",
   "execution_count": 25,
   "metadata": {},
   "outputs": [
    {
     "name": "stdout",
     "output_type": "stream",
     "text": [
      "[11]\n"
     ]
    }
   ],
   "source": []
  },
  {
   "cell_type": "code",
   "execution_count": null,
   "metadata": {},
   "outputs": [],
   "source": []
  }
 ],
 "metadata": {
  "kernelspec": {
   "display_name": "Python 3",
   "language": "python",
   "name": "python3"
  },
  "language_info": {
   "codemirror_mode": {
    "name": "ipython",
    "version": 3
   },
   "file_extension": ".py",
   "mimetype": "text/x-python",
   "name": "python",
   "nbconvert_exporter": "python",
   "pygments_lexer": "ipython3",
   "version": "3.7.4"
  }
 },
 "nbformat": 4,
 "nbformat_minor": 4
}
